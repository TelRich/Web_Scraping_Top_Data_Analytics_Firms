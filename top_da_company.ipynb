{
 "cells": [
  {
   "attachments": {},
   "cell_type": "markdown",
   "metadata": {},
   "source": [
    "# Web Scraping\n",
    "\n",
    "## Top Data Analytics Companies\n",
    "To improve effectiveness in business processes, companies are focussing on collecting and utilizing data. Data analytics companies enable businesses to analyze the acquired data and use them as required. Data analytics services can assist in product development, identifying potential market gaps, improving operational efficiency, etc. [Goodfirms](https://www.goodfirms.co/big-data-analytics/data-analytics)\n",
    "\n",
    "The aim of this project is to scrape Goodfirms website for details about top data analytics company. These details includes, review, rating, year founded, location, etc."
   ]
  },
  {
   "attachments": {},
   "cell_type": "markdown",
   "metadata": {},
   "source": [
    "### Libraries"
   ]
  },
  {
   "cell_type": "code",
   "execution_count": 2,
   "metadata": {},
   "outputs": [],
   "source": [
    "import requests as r\n",
    "from bs4 import BeautifulSoup\n"
   ]
  },
  {
   "attachments": {},
   "cell_type": "markdown",
   "metadata": {},
   "source": [
    "### Download and save HTML file"
   ]
  },
  {
   "cell_type": "code",
   "execution_count": 3,
   "metadata": {},
   "outputs": [],
   "source": [
    "# # URL link\n",
    "# url = 'https://www.goodfirms.co/big-data-analytics/data-analytics'\n",
    "# # access website\n",
    "# html = r.get(url)\n",
    "# with open('top_da_company.html', mode='wb') as file:\n",
    "#     file.write(html.content)"
   ]
  },
  {
   "cell_type": "code",
   "execution_count": 6,
   "metadata": {},
   "outputs": [],
   "source": [
    "with open(\"top_da_company.html\", encoding='utf-8', mode='r') as file:\n",
    "    bs = BeautifulSoup(file, 'lxml')\n",
    "    # bs = BeautifulSoup(file, 'html5lib')"
   ]
  },
  {
   "attachments": {},
   "cell_type": "markdown",
   "metadata": {},
   "source": [
    "Name Extraction"
   ]
  },
  {
   "cell_type": "code",
   "execution_count": 7,
   "metadata": {},
   "outputs": [
    {
     "data": {
      "text/plain": [
       "[<span itemprop=\"name\">Home</span>,\n",
       " <span itemprop=\"name\">big data analytics</span>,\n",
       " <span itemprop=\"name\">\n",
       " Data Analytics </span>,\n",
       " <span itemprop=\"name\">SPEC INDIA</span>,\n",
       " <span itemprop=\"name\">instinctools</span>]"
      ]
     },
     "execution_count": 7,
     "metadata": {},
     "output_type": "execute_result"
    }
   ],
   "source": [
    "firm_names = bs.find_all('span', {'itemprop': \"name\"})\n",
    "firm_names[:5]"
   ]
  },
  {
   "cell_type": "code",
   "execution_count": 8,
   "metadata": {},
   "outputs": [
    {
     "name": "stdout",
     "output_type": "stream",
     "text": [
      "51\n"
     ]
    }
   ],
   "source": [
    "names_lst = []\n",
    "for name in firm_names[3:]:\n",
    "    names_lst.append(name.text)\n",
    "\n",
    "print(len(names_lst))\n",
    "# names_lst"
   ]
  },
  {
   "cell_type": "code",
   "execution_count": 12,
   "metadata": {},
   "outputs": [
    {
     "data": {
      "text/plain": [
       "[<p class=\"profile-tagline\">Enterprise Software, Mobility &amp; BI Solutions</p>,\n",
       " <p class=\"profile-tagline\">Delivering the future. Now.</p>,\n",
       " <p class=\"profile-tagline\">Blockchain | IoT | Mobility | AI | Big Data</p>,\n",
       " <p class=\"profile-tagline\">Discover the world of Big Data with us!</p>,\n",
       " <p class=\"profile-tagline\">The Hub Of Data Science Innovation</p>]"
      ]
     },
     "execution_count": 12,
     "metadata": {},
     "output_type": "execute_result"
    }
   ],
   "source": [
    "firm_motors = bs.find_all('p', {'class': \"profile-tagline\"})\n",
    "firm_motors[:5]"
   ]
  },
  {
   "cell_type": "code",
   "execution_count": 16,
   "metadata": {},
   "outputs": [
    {
     "name": "stdout",
     "output_type": "stream",
     "text": [
      "51\n"
     ]
    }
   ],
   "source": [
    "motor_lst = []\n",
    "for motor in firm_motors:\n",
    "    motor_lst.append(motor.text)\n",
    "\n",
    "print(len(motor_lst))\n",
    "# motor_lst"
   ]
  },
  {
   "cell_type": "code",
   "execution_count": 15,
   "metadata": {},
   "outputs": [
    {
     "data": {
      "text/plain": [
       "[<span class=\"listinv_review_label\">4.8 (26 Reviews)</span>,\n",
       " <span class=\"listinv_review_label\">4.8 (8 Reviews)</span>,\n",
       " <span class=\"listinv_review_label\">5.0 (32 Reviews)</span>,\n",
       " <span class=\"listinv_review_label\">4.7 (5 Reviews)</span>,\n",
       " <span class=\"listinv_review_label\">5.0 (5 Reviews)</span>]"
      ]
     },
     "execution_count": 15,
     "metadata": {},
     "output_type": "execute_result"
    }
   ],
   "source": [
    "firm_reviews = bs.find_all('span', {'class': \"listinv_review_label\"})\n",
    "firm_reviews[:5]"
   ]
  },
  {
   "cell_type": "code",
   "execution_count": 18,
   "metadata": {},
   "outputs": [
    {
     "name": "stdout",
     "output_type": "stream",
     "text": [
      "51\n"
     ]
    }
   ],
   "source": [
    "review_lst = []\n",
    "for review in firm_reviews:\n",
    "    review_lst.append(review.text)\n",
    "    \n",
    "print(len(review_lst))\n",
    "# review_lst"
   ]
  },
  {
   "cell_type": "code",
   "execution_count": 9,
   "metadata": {},
   "outputs": [
    {
     "data": {
      "text/plain": [
       "[<div class=\"circle-progress-value\">20%</div>,\n",
       " <div class=\"circle-progress-value\">15%</div>,\n",
       " <div class=\"circle-progress-value\">5%</div>,\n",
       " <div class=\"circle-progress-value\">10%</div>,\n",
       " <div class=\"circle-progress-value\">15%</div>]"
      ]
     },
     "execution_count": 9,
     "metadata": {},
     "output_type": "execute_result"
    }
   ],
   "source": [
    "progress_value = bs.find_all('div', {'class': \"circle-progress-value\"})\n",
    "progress_value[:5]"
   ]
  },
  {
   "cell_type": "code",
   "execution_count": 10,
   "metadata": {},
   "outputs": [
    {
     "name": "stdout",
     "output_type": "stream",
     "text": [
      "51\n",
      "51\n"
     ]
    }
   ],
   "source": [
    "service_pct = []\n",
    "platform_pct = []\n",
    "for percent in enumerate(progress_value):\n",
    "    if percent[0] % 2 == 0:\n",
    "        service_pct.append(percent[1].text)\n",
    "    else:\n",
    "        platform_pct.append(percent[1].text)\n",
    "        \n",
    "print(len(service_pct))\n",
    "print(len(platform_pct))\n",
    "# service_pct\n",
    "# platform_pct"
   ]
  },
  {
   "cell_type": "code",
   "execution_count": 19,
   "metadata": {},
   "outputs": [
    {
     "data": {
      "text/plain": [
       "[<div class=\"firm-pricing\">\n",
       " &lt; $25/hr </div>,\n",
       " <div class=\"firm-pricing\">\n",
       " $50 - $99/hr </div>,\n",
       " <div class=\"firm-pricing\">\n",
       " $25 - $49/hr </div>,\n",
       " <div class=\"firm-pricing\">\n",
       " $25 - $49/hr </div>,\n",
       " <div class=\"firm-pricing\">\n",
       " $25 - $49/hr </div>]"
      ]
     },
     "execution_count": 19,
     "metadata": {},
     "output_type": "execute_result"
    }
   ],
   "source": [
    "firm_prices = bs.find_all('div', {'class': \"firm-pricing\"})\n",
    "firm_prices[:5]"
   ]
  },
  {
   "cell_type": "code",
   "execution_count": 24,
   "metadata": {},
   "outputs": [
    {
     "name": "stdout",
     "output_type": "stream",
     "text": [
      "51\n"
     ]
    }
   ],
   "source": [
    "price_lst = []\n",
    "for price in firm_prices:\n",
    "    price_lst.append(price.text)\n",
    "    \n",
    "print(len(price_lst))\n",
    "# price_lst"
   ]
  },
  {
   "cell_type": "code",
   "execution_count": 25,
   "metadata": {},
   "outputs": [
    {
     "data": {
      "text/plain": [
       "[<div class=\"firm-employees\">250 - 999</div>,\n",
       " <div class=\"firm-employees\">250 - 999</div>,\n",
       " <div class=\"firm-employees\">50 - 249</div>,\n",
       " <div class=\"firm-employees\">250 - 999</div>,\n",
       " <div class=\"firm-employees\">10 - 49</div>]"
      ]
     },
     "execution_count": 25,
     "metadata": {},
     "output_type": "execute_result"
    }
   ],
   "source": [
    "firm_emps = bs.find_all('div', {'class': \"firm-employees\"})\n",
    "firm_emps[:5]"
   ]
  },
  {
   "cell_type": "code",
   "execution_count": 27,
   "metadata": {},
   "outputs": [
    {
     "name": "stdout",
     "output_type": "stream",
     "text": [
      "51\n"
     ]
    }
   ],
   "source": [
    "emps_lst = []\n",
    "for emp in firm_emps:\n",
    "    emps_lst.append(emp.text)\n",
    "    \n",
    "print(len(emps_lst))\n",
    "# emps_lst"
   ]
  },
  {
   "cell_type": "code",
   "execution_count": 28,
   "metadata": {},
   "outputs": [
    {
     "data": {
      "text/plain": [
       "[<div class=\"firm-founded\">1987</div>,\n",
       " <div class=\"firm-founded\">2000</div>,\n",
       " <div class=\"firm-founded\">2014</div>,\n",
       " <div class=\"firm-founded\">2010</div>,\n",
       " <div class=\"firm-founded\">2016</div>]"
      ]
     },
     "execution_count": 28,
     "metadata": {},
     "output_type": "execute_result"
    }
   ],
   "source": [
    "firm_years = bs.find_all('div', {'class': \"firm-founded\"})\n",
    "firm_years[:5]"
   ]
  },
  {
   "cell_type": "code",
   "execution_count": 31,
   "metadata": {},
   "outputs": [
    {
     "name": "stdout",
     "output_type": "stream",
     "text": [
      "51\n"
     ]
    }
   ],
   "source": [
    "year_lst = []\n",
    "for year in firm_years:\n",
    "    year_lst.append(year.text)\n",
    "    \n",
    "print(len(year_lst))\n",
    "# year_lst"
   ]
  },
  {
   "cell_type": "code",
   "execution_count": 32,
   "metadata": {},
   "outputs": [
    {
     "data": {
      "text/plain": [
       "[<div class=\"firm-location\">\n",
       " India, United States </div>,\n",
       " <div class=\"firm-location\">\n",
       " United States, Germany </div>,\n",
       " <div class=\"firm-location\">\n",
       " United States, India </div>,\n",
       " <div class=\"firm-location\">\n",
       " United States, Australia </div>,\n",
       " <div class=\"firm-location\">\n",
       " United States, India </div>]"
      ]
     },
     "execution_count": 32,
     "metadata": {},
     "output_type": "execute_result"
    }
   ],
   "source": [
    "firm_locations = bs.find_all('div', {'class': \"firm-location\"})\n",
    "firm_locations[:5]"
   ]
  },
  {
   "cell_type": "code",
   "execution_count": 41,
   "metadata": {},
   "outputs": [
    {
     "name": "stdout",
     "output_type": "stream",
     "text": [
      "51\n"
     ]
    }
   ],
   "source": [
    "firm_lst = [firm.text for firm in firm_locations]\n",
    "print(len(firm_lst))\n",
    "# firm_lst"
   ]
  }
 ],
 "metadata": {
  "kernelspec": {
   "display_name": "Python 3",
   "language": "python",
   "name": "python3"
  },
  "language_info": {
   "codemirror_mode": {
    "name": "ipython",
    "version": 3
   },
   "file_extension": ".py",
   "mimetype": "text/x-python",
   "name": "python",
   "nbconvert_exporter": "python",
   "pygments_lexer": "ipython3",
   "version": "3.9.12"
  },
  "orig_nbformat": 4,
  "vscode": {
   "interpreter": {
    "hash": "b68a3c467d07aa8b20c71071b0b7606f948be72d30c76b97a14d11803ebfb6c4"
   }
  }
 },
 "nbformat": 4,
 "nbformat_minor": 2
}
