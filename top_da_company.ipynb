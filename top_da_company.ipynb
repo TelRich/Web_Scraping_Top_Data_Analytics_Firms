{
 "cells": [
  {
   "attachments": {},
   "cell_type": "markdown",
   "metadata": {},
   "source": [
    "# Web Scraping\n",
    "\n",
    "## Top Data Analytics Companies\n",
    "To improve effectiveness in business processes, companies are focussing on collecting and utilizing data. Data analytics companies enable businesses to analyze the acquired data and use them as required. Data analytics services can assist in product development, identifying potential market gaps, improving operational efficiency, etc. [Goodfirms](https://www.goodfirms.co/big-data-analytics/data-analytics)\n",
    "\n",
    "The aim of this project is to scrape Goodfirms website for details about top data analytics company. These details includes, review, rating, year founded, location, etc."
   ]
  },
  {
   "attachments": {},
   "cell_type": "markdown",
   "metadata": {},
   "source": [
    "### Road Map\n",
    "Stage 1\n",
    "* Download page\n",
    "* Open page\n",
    "* Get details\n",
    "* Extract details\n",
    "* Make a dataframe\n",
    "\n",
    "Stage 2 (Code Refactoring)\n",
    "* Change loops to function\n",
    "* Take functions to another file\n",
    "* Import functions and extract\n",
    "* Make a dataframe"
   ]
  },
  {
   "attachments": {},
   "cell_type": "markdown",
   "metadata": {},
   "source": [
    "### Libraries"
   ]
  },
  {
   "cell_type": "code",
   "execution_count": 1,
   "metadata": {},
   "outputs": [
    {
     "data": {
      "text/html": [
       "        <script type=\"text/javascript\">\n",
       "        window.PlotlyConfig = {MathJaxConfig: 'local'};\n",
       "        if (window.MathJax) {MathJax.Hub.Config({SVG: {font: \"STIX-Web\"}});}\n",
       "        if (typeof require !== 'undefined') {\n",
       "        require.undef(\"plotly\");\n",
       "        requirejs.config({\n",
       "            paths: {\n",
       "                'plotly': ['https://cdn.plot.ly/plotly-2.9.0.min']\n",
       "            }\n",
       "        });\n",
       "        require(['plotly'], function(Plotly) {\n",
       "            window._Plotly = Plotly;\n",
       "        });\n",
       "        }\n",
       "        </script>\n",
       "        "
      ]
     },
     "metadata": {},
     "output_type": "display_data"
    }
   ],
   "source": [
    "import requests as r\n",
    "from bs4 import BeautifulSoup\n",
    "import pandas as pd\n",
    "import plotly.express as px\n",
    "import plotly.offline as po\n",
    "po.init_notebook_mode(connected=True)"
   ]
  },
  {
   "attachments": {},
   "cell_type": "markdown",
   "metadata": {},
   "source": [
    "### Download and save HTML file"
   ]
  },
  {
   "cell_type": "code",
   "execution_count": 2,
   "metadata": {},
   "outputs": [],
   "source": [
    "# # URL link\n",
    "# url = 'https://www.goodfirms.co/big-data-analytics/data-analytics'\n",
    "# # access website\n",
    "# html = r.get(url)\n",
    "# with open('top_da_company1.html', mode='wb') as file:\n",
    "#     file.write(html.content)"
   ]
  },
  {
   "cell_type": "code",
   "execution_count": 3,
   "metadata": {},
   "outputs": [],
   "source": [
    "with open(\"top_da_company1.html\", encoding='utf-8', mode='r') as file:\n",
    "    bs = BeautifulSoup(file, 'lxml')\n",
    "    # bs = BeautifulSoup(file, 'html5lib')"
   ]
  },
  {
   "attachments": {},
   "cell_type": "markdown",
   "metadata": {},
   "source": [
    "### Locate Details"
   ]
  },
  {
   "cell_type": "code",
   "execution_count": 4,
   "metadata": {},
   "outputs": [],
   "source": [
    "firm_names = bs.find_all('span', {'itemprop': \"name\"})\n",
    "firm_motors = bs.find_all('p', {'class': \"profile-tagline\"})\n",
    "firm_reviews = bs.find_all('span', {'class': \"listinv_review_label\"})\n",
    "progress_value = bs.find_all('div', {'class': \"circle-progress-value\"})\n",
    "firm_prices = bs.find_all('div', {'class': \"firm-pricing\"})\n",
    "firm_emps = bs.find_all('div', {'class': \"firm-employees\"})\n",
    "firm_years = bs.find_all('div', {'class': \"firm-founded\"})\n",
    "firm_locations = bs.find_all('div', {'class': \"firm-location\"})"
   ]
  },
  {
   "cell_type": "code",
   "execution_count": 5,
   "metadata": {},
   "outputs": [
    {
     "name": "stdout",
     "output_type": "stream",
     "text": [
      "51\n"
     ]
    },
    {
     "data": {
      "text/plain": [
       "['SPEC INDIA', 'instinctools', 'SoluLab']"
      ]
     },
     "execution_count": 5,
     "metadata": {},
     "output_type": "execute_result"
    }
   ],
   "source": [
    "names_lst = []\n",
    "for name in firm_names[3:]:\n",
    "    names_lst.append(name.text)\n",
    "    \n",
    "print(len(names_lst))\n",
    "names_lst[:3]"
   ]
  },
  {
   "cell_type": "code",
   "execution_count": 6,
   "metadata": {},
   "outputs": [
    {
     "name": "stdout",
     "output_type": "stream",
     "text": [
      "51\n"
     ]
    },
    {
     "data": {
      "text/plain": [
       "['Enterprise Software, Mobility & BI Solutions',\n",
       " 'Delivering the future. Now.',\n",
       " 'Blockchain | IoT | Mobility | AI | Big Data']"
      ]
     },
     "execution_count": 6,
     "metadata": {},
     "output_type": "execute_result"
    }
   ],
   "source": [
    "motor_lst = []\n",
    "for motor in firm_motors:\n",
    "    motor_lst.append(motor.text)\n",
    "\n",
    "print(len(motor_lst))\n",
    "motor_lst[:3]"
   ]
  },
  {
   "cell_type": "code",
   "execution_count": 7,
   "metadata": {},
   "outputs": [
    {
     "name": "stdout",
     "output_type": "stream",
     "text": [
      "51\n"
     ]
    },
    {
     "data": {
      "text/plain": [
       "['4.8 (26 Reviews)', '4.8 (8 Reviews)', '5.0 (32 Reviews)']"
      ]
     },
     "execution_count": 7,
     "metadata": {},
     "output_type": "execute_result"
    }
   ],
   "source": [
    "review_lst = []\n",
    "for review in firm_reviews:\n",
    "    review_lst.append(review.text)\n",
    "    \n",
    "print(len(review_lst))\n",
    "review_lst[:3]"
   ]
  },
  {
   "cell_type": "code",
   "execution_count": 8,
   "metadata": {},
   "outputs": [
    {
     "name": "stdout",
     "output_type": "stream",
     "text": [
      "51\n",
      "51\n",
      "['20%', '5%', '15%']\n",
      "['15%', '10%', '15%']\n"
     ]
    }
   ],
   "source": [
    "service_pct = []\n",
    "platform_pct = []\n",
    "for percent in enumerate(progress_value):\n",
    "    if percent[0] % 2 == 0:\n",
    "        service_pct.append(percent[1].text)\n",
    "    else:\n",
    "        platform_pct.append(percent[1].text)\n",
    "        \n",
    "print(len(service_pct))\n",
    "print(len(platform_pct))\n",
    "print(service_pct[:3])\n",
    "print(platform_pct[:3])"
   ]
  },
  {
   "cell_type": "code",
   "execution_count": 9,
   "metadata": {},
   "outputs": [
    {
     "name": "stdout",
     "output_type": "stream",
     "text": [
      "51\n"
     ]
    },
    {
     "data": {
      "text/plain": [
       "['\\n< $25/hr ', '\\n$50 - $99/hr ', '\\n$25 - $49/hr ']"
      ]
     },
     "execution_count": 9,
     "metadata": {},
     "output_type": "execute_result"
    }
   ],
   "source": [
    "price_lst = []\n",
    "for price in firm_prices:\n",
    "    price_lst.append(price.text)\n",
    "    \n",
    "print(len(price_lst))\n",
    "price_lst[:3]"
   ]
  },
  {
   "cell_type": "code",
   "execution_count": 10,
   "metadata": {},
   "outputs": [
    {
     "name": "stdout",
     "output_type": "stream",
     "text": [
      "51\n"
     ]
    },
    {
     "data": {
      "text/plain": [
       "['250 - 999', '250 - 999', '50 - 249']"
      ]
     },
     "execution_count": 10,
     "metadata": {},
     "output_type": "execute_result"
    }
   ],
   "source": [
    "emps_lst = []\n",
    "for emp in firm_emps:\n",
    "    emps_lst.append(emp.text)\n",
    "    \n",
    "print(len(emps_lst))\n",
    "emps_lst[:3]"
   ]
  },
  {
   "cell_type": "code",
   "execution_count": 11,
   "metadata": {},
   "outputs": [
    {
     "name": "stdout",
     "output_type": "stream",
     "text": [
      "51\n"
     ]
    },
    {
     "data": {
      "text/plain": [
       "['1987', '2000', '2014']"
      ]
     },
     "execution_count": 11,
     "metadata": {},
     "output_type": "execute_result"
    }
   ],
   "source": [
    "year_lst = []\n",
    "for year in firm_years:\n",
    "    year_lst.append(year.text)\n",
    "    \n",
    "print(len(year_lst))\n",
    "year_lst[:3]"
   ]
  },
  {
   "cell_type": "code",
   "execution_count": 12,
   "metadata": {},
   "outputs": [
    {
     "name": "stdout",
     "output_type": "stream",
     "text": [
      "51\n"
     ]
    },
    {
     "data": {
      "text/plain": [
       "['\\nIndia, United States ',\n",
       " '\\nUnited States, Germany ',\n",
       " '\\nUnited States, India ']"
      ]
     },
     "execution_count": 12,
     "metadata": {},
     "output_type": "execute_result"
    }
   ],
   "source": [
    "firm_lst = [firm.text for firm in firm_locations]\n",
    "print(len(firm_lst))\n",
    "firm_lst[:3]"
   ]
  },
  {
   "cell_type": "code",
   "execution_count": 13,
   "metadata": {},
   "outputs": [],
   "source": [
    "df = pd.DataFrame()"
   ]
  },
  {
   "cell_type": "code",
   "execution_count": 14,
   "metadata": {},
   "outputs": [],
   "source": [
    "df['firm_name'] = names_lst\n",
    "df['firm_motor'] = motor_lst\n",
    "df['firm_review'] = review_lst\n",
    "df['service_pct'] = service_pct\n",
    "df['platform_pct'] = platform_pct\n",
    "df['firm_price'] = price_lst\n",
    "df['firm_employee'] = emps_lst\n",
    "df['year_founded'] = year_lst\n",
    "df['firm_location'] = firm_locations"
   ]
  },
  {
   "cell_type": "code",
   "execution_count": 48,
   "metadata": {},
   "outputs": [],
   "source": [
    "# df\n",
    "# df2 = df.copy()\n",
    "# pd.concat([df, df2])"
   ]
  },
  {
   "attachments": {},
   "cell_type": "markdown",
   "metadata": {},
   "source": [
    "Task\n",
    "Extract the remaining three details\n",
    "Download the second page and save it as \"top_da_company2.html\"\n",
    "Extract the same details as seen above\n",
    "Create a dataframe "
   ]
  },
  {
   "cell_type": "code",
   "execution_count": 38,
   "metadata": {},
   "outputs": [],
   "source": [
    "# URL link\n",
    "url = 'https://www.goodfirms.co/big-data-analytics/data-analytics?page=2'\n",
    "# access website\n",
    "html = r.get(url)\n",
    "with open('top_da_company2.html', mode='wb') as file:\n",
    "    file.write(html.content)"
   ]
  },
  {
   "cell_type": "code",
   "execution_count": 39,
   "metadata": {},
   "outputs": [],
   "source": [
    "with open(\"top_da_company2.html\", encoding='utf-8', mode='r') as file:\n",
    "    bs = BeautifulSoup(file, 'lxml')\n",
    "    # bs = BeautifulSoup(file, 'html5lib')"
   ]
  },
  {
   "cell_type": "code",
   "execution_count": 40,
   "metadata": {},
   "outputs": [],
   "source": [
    "firm_names = bs.find_all('span', {'itemprop': \"name\"})\n",
    "firm_motors = bs.find_all('p', {'class': \"profile-tagline\"})\n",
    "firm_reviews = bs.find_all('span', {'class': \"listinv_review_label\"})\n",
    "progress_value = bs.find_all('div', {'class': \"circle-progress-value\"})\n",
    "firm_prices = bs.find_all('div', {'class': \"firm-pricing\"})\n",
    "firm_emps = bs.find_all('div', {'class': \"firm-employees\"})\n",
    "firm_years = bs.find_all('div', {'class': \"firm-founded\"})\n",
    "firm_locations = bs.find_all('div', {'class': \"firm-location\"})"
   ]
  },
  {
   "cell_type": "code",
   "execution_count": 41,
   "metadata": {},
   "outputs": [],
   "source": [
    "import functions as fn"
   ]
  },
  {
   "cell_type": "code",
   "execution_count": 42,
   "metadata": {},
   "outputs": [
    {
     "name": "stdout",
     "output_type": "stream",
     "text": [
      "The number of name extracted is 51\n"
     ]
    },
    {
     "data": {
      "text/plain": [
       "0                           Systango Technologies\n",
       "1                                         Inoxoft\n",
       "2    Noventum Custom Software Development Company\n",
       "3                   Napollo Software Design L.L.C\n",
       "4                        SemiDot Infotech Pvt Ltd\n",
       "dtype: object"
      ]
     },
     "execution_count": 42,
     "metadata": {},
     "output_type": "execute_result"
    }
   ],
   "source": [
    "fn.extract_names(firm_names)[:5]"
   ]
  },
  {
   "cell_type": "code",
   "execution_count": 49,
   "metadata": {},
   "outputs": [
    {
     "name": "stdout",
     "output_type": "stream",
     "text": [
      "The number of firm motor extracted is 51\n"
     ]
    },
    {
     "data": {
      "text/plain": [
       "0                    We Make the Impossible, Possible!\n",
       "1    IEC/ISO 27001, Google, Microsoft Certified Com...\n",
       "2      Custom Software & Web Development in New Mexico\n",
       "3      Best Software Design Agency in Dubai & New York\n",
       "4            Right Technology Partner for IT Solutions\n",
       "dtype: object"
      ]
     },
     "execution_count": 49,
     "metadata": {},
     "output_type": "execute_result"
    }
   ],
   "source": [
    "fn.extract_motors(firm_motors)[:5]"
   ]
  },
  {
   "cell_type": "code",
   "execution_count": 26,
   "metadata": {},
   "outputs": [
    {
     "name": "stdout",
     "output_type": "stream",
     "text": [
      "The number of review extracted is 51\n"
     ]
    },
    {
     "data": {
      "text/plain": [
       "0    4.8 (26 Reviews)\n",
       "1     4.8 (8 Reviews)\n",
       "2    5.0 (32 Reviews)\n",
       "3     4.7 (5 Reviews)\n",
       "4     5.0 (5 Reviews)\n",
       "dtype: object"
      ]
     },
     "execution_count": 26,
     "metadata": {},
     "output_type": "execute_result"
    }
   ],
   "source": [
    "fn.extract_reviews(firm_reviews)[:5]"
   ]
  },
  {
   "cell_type": "code",
   "execution_count": 27,
   "metadata": {},
   "outputs": [
    {
     "name": "stdout",
     "output_type": "stream",
     "text": [
      "The number of service percent is 51\n",
      "The number of platform percent is 51\n"
     ]
    },
    {
     "data": {
      "text/plain": [
       "0    20%\n",
       "1     5%\n",
       "2    15%\n",
       "3    40%\n",
       "4    25%\n",
       "dtype: object"
      ]
     },
     "execution_count": 27,
     "metadata": {},
     "output_type": "execute_result"
    }
   ],
   "source": [
    "fn.extract_progress_values(progress_value)[0][:5]"
   ]
  },
  {
   "cell_type": "code",
   "execution_count": 28,
   "metadata": {},
   "outputs": [
    {
     "name": "stdout",
     "output_type": "stream",
     "text": [
      "The number of price extracted is 51\n"
     ]
    },
    {
     "data": {
      "text/plain": [
       "0        \\n< $25/hr \n",
       "1    \\n$50 - $99/hr \n",
       "2    \\n$25 - $49/hr \n",
       "3    \\n$25 - $49/hr \n",
       "4    \\n$25 - $49/hr \n",
       "dtype: object"
      ]
     },
     "execution_count": 28,
     "metadata": {},
     "output_type": "execute_result"
    }
   ],
   "source": [
    "fn.exttract_prices(firm_prices)[:5]"
   ]
  },
  {
   "cell_type": "code",
   "execution_count": 29,
   "metadata": {},
   "outputs": [
    {
     "name": "stdout",
     "output_type": "stream",
     "text": [
      "The number of employees extracted is 51\n"
     ]
    },
    {
     "data": {
      "text/plain": [
       "0    250 - 999\n",
       "1    250 - 999\n",
       "2     50 - 249\n",
       "3    250 - 999\n",
       "4      10 - 49\n",
       "dtype: object"
      ]
     },
     "execution_count": 29,
     "metadata": {},
     "output_type": "execute_result"
    }
   ],
   "source": [
    "fn.extract_employees(firm_emps)[:5]"
   ]
  },
  {
   "cell_type": "code",
   "execution_count": 30,
   "metadata": {},
   "outputs": [
    {
     "name": "stdout",
     "output_type": "stream",
     "text": [
      "The number of year extracted is 51\n"
     ]
    },
    {
     "data": {
      "text/plain": [
       "0    1987\n",
       "1    2000\n",
       "2    2014\n",
       "3    2010\n",
       "4    2016\n",
       "dtype: object"
      ]
     },
     "execution_count": 30,
     "metadata": {},
     "output_type": "execute_result"
    }
   ],
   "source": [
    "fn.extract_founded_year(firm_years)[:5]"
   ]
  },
  {
   "cell_type": "code",
   "execution_count": 31,
   "metadata": {},
   "outputs": [
    {
     "name": "stdout",
     "output_type": "stream",
     "text": [
      "The number of locations extracted is 51\n"
     ]
    },
    {
     "data": {
      "text/plain": [
       "0        \\nIndia, United States \n",
       "1      \\nUnited States, Germany \n",
       "2        \\nUnited States, India \n",
       "3    \\nUnited States, Australia \n",
       "4        \\nUnited States, India \n",
       "dtype: object"
      ]
     },
     "execution_count": 31,
     "metadata": {},
     "output_type": "execute_result"
    }
   ],
   "source": [
    "fn.extract_locations(firm_locations)[:5]"
   ]
  },
  {
   "attachments": {},
   "cell_type": "markdown",
   "metadata": {},
   "source": [
    "### Data Cleaning"
   ]
  },
  {
   "cell_type": "code",
   "execution_count": 18,
   "metadata": {},
   "outputs": [
    {
     "data": {
      "text/html": [
       "<div>\n",
       "<style scoped>\n",
       "    .dataframe tbody tr th:only-of-type {\n",
       "        vertical-align: middle;\n",
       "    }\n",
       "\n",
       "    .dataframe tbody tr th {\n",
       "        vertical-align: top;\n",
       "    }\n",
       "\n",
       "    .dataframe thead th {\n",
       "        text-align: right;\n",
       "    }\n",
       "</style>\n",
       "<table border=\"1\" class=\"dataframe\">\n",
       "  <thead>\n",
       "    <tr style=\"text-align: right;\">\n",
       "      <th></th>\n",
       "      <th>firm_name</th>\n",
       "      <th>firm_motor</th>\n",
       "      <th>firm_review</th>\n",
       "      <th>service_pct</th>\n",
       "      <th>platform_pct</th>\n",
       "      <th>firm_price</th>\n",
       "      <th>firm_employee</th>\n",
       "      <th>year_founded</th>\n",
       "      <th>firm_location</th>\n",
       "    </tr>\n",
       "  </thead>\n",
       "  <tbody>\n",
       "    <tr>\n",
       "      <th>0</th>\n",
       "      <td>SPEC INDIA</td>\n",
       "      <td>Enterprise Software, Mobility &amp; BI Solutions</td>\n",
       "      <td>4.8 (26 Reviews)</td>\n",
       "      <td>20%</td>\n",
       "      <td>15%</td>\n",
       "      <td>\\n&lt; $25/hr</td>\n",
       "      <td>250 - 999</td>\n",
       "      <td>1987</td>\n",
       "      <td>[\\nIndia, United States ]</td>\n",
       "    </tr>\n",
       "    <tr>\n",
       "      <th>1</th>\n",
       "      <td>instinctools</td>\n",
       "      <td>Delivering the future. Now.</td>\n",
       "      <td>4.8 (8 Reviews)</td>\n",
       "      <td>5%</td>\n",
       "      <td>10%</td>\n",
       "      <td>\\n$50 - $99/hr</td>\n",
       "      <td>250 - 999</td>\n",
       "      <td>2000</td>\n",
       "      <td>[\\nUnited States, Germany ]</td>\n",
       "    </tr>\n",
       "    <tr>\n",
       "      <th>2</th>\n",
       "      <td>SoluLab</td>\n",
       "      <td>Blockchain | IoT | Mobility | AI | Big Data</td>\n",
       "      <td>5.0 (32 Reviews)</td>\n",
       "      <td>15%</td>\n",
       "      <td>15%</td>\n",
       "      <td>\\n$25 - $49/hr</td>\n",
       "      <td>50 - 249</td>\n",
       "      <td>2014</td>\n",
       "      <td>[\\nUnited States, India ]</td>\n",
       "    </tr>\n",
       "    <tr>\n",
       "      <th>3</th>\n",
       "      <td>Sigma Data Systems</td>\n",
       "      <td>Discover the world of Big Data with us!</td>\n",
       "      <td>4.7 (5 Reviews)</td>\n",
       "      <td>40%</td>\n",
       "      <td>10%</td>\n",
       "      <td>\\n$25 - $49/hr</td>\n",
       "      <td>250 - 999</td>\n",
       "      <td>2010</td>\n",
       "      <td>[\\nUnited States, Australia ]</td>\n",
       "    </tr>\n",
       "    <tr>\n",
       "      <th>4</th>\n",
       "      <td>NeenOpal Inc.</td>\n",
       "      <td>The Hub Of Data Science Innovation</td>\n",
       "      <td>5.0 (5 Reviews)</td>\n",
       "      <td>25%</td>\n",
       "      <td>10%</td>\n",
       "      <td>\\n$25 - $49/hr</td>\n",
       "      <td>10 - 49</td>\n",
       "      <td>2016</td>\n",
       "      <td>[\\nUnited States, India ]</td>\n",
       "    </tr>\n",
       "  </tbody>\n",
       "</table>\n",
       "</div>"
      ],
      "text/plain": [
       "            firm_name                                    firm_motor  \\\n",
       "0          SPEC INDIA  Enterprise Software, Mobility & BI Solutions   \n",
       "1        instinctools                   Delivering the future. Now.   \n",
       "2             SoluLab   Blockchain | IoT | Mobility | AI | Big Data   \n",
       "3  Sigma Data Systems       Discover the world of Big Data with us!   \n",
       "4       NeenOpal Inc.            The Hub Of Data Science Innovation   \n",
       "\n",
       "        firm_review service_pct platform_pct       firm_price firm_employee  \\\n",
       "0  4.8 (26 Reviews)         20%          15%      \\n< $25/hr      250 - 999   \n",
       "1   4.8 (8 Reviews)          5%          10%  \\n$50 - $99/hr      250 - 999   \n",
       "2  5.0 (32 Reviews)         15%          15%  \\n$25 - $49/hr       50 - 249   \n",
       "3   4.7 (5 Reviews)         40%          10%  \\n$25 - $49/hr      250 - 999   \n",
       "4   5.0 (5 Reviews)         25%          10%  \\n$25 - $49/hr        10 - 49   \n",
       "\n",
       "  year_founded                  firm_location  \n",
       "0         1987      [\\nIndia, United States ]  \n",
       "1         2000    [\\nUnited States, Germany ]  \n",
       "2         2014      [\\nUnited States, India ]  \n",
       "3         2010  [\\nUnited States, Australia ]  \n",
       "4         2016      [\\nUnited States, India ]  "
      ]
     },
     "execution_count": 18,
     "metadata": {},
     "output_type": "execute_result"
    }
   ],
   "source": [
    "df.head(5)"
   ]
  },
  {
   "cell_type": "code",
   "execution_count": 19,
   "metadata": {},
   "outputs": [],
   "source": [
    "df.insert(2, 'star_rating', df['firm_review'].apply(lambda x: x.split()[0]))"
   ]
  },
  {
   "cell_type": "code",
   "execution_count": 20,
   "metadata": {},
   "outputs": [],
   "source": [
    "df.insert(3, 'review', df['firm_review'].apply(lambda x: x.split()[1].strip('(')))"
   ]
  },
  {
   "cell_type": "code",
   "execution_count": 21,
   "metadata": {},
   "outputs": [],
   "source": [
    "df.rename(columns={'service_pct':'service_pct(%)'}, inplace=True)\n",
    "df['service_pct(%)'] = df['service_pct(%)'].apply(lambda x: x.strip('%'))"
   ]
  },
  {
   "cell_type": "code",
   "execution_count": 22,
   "metadata": {},
   "outputs": [],
   "source": [
    "df.rename(columns={'platform_pct':'platform_pct(%)'}, inplace=True)\n",
    "df['platform_pct(%)'] = df['platform_pct(%)'].apply(lambda x: x.strip('%'))"
   ]
  },
  {
   "cell_type": "code",
   "execution_count": 23,
   "metadata": {},
   "outputs": [],
   "source": [
    "df['firm_price'] = df['firm_price'].apply(lambda x: x.strip('\\n'))"
   ]
  },
  {
   "cell_type": "code",
   "execution_count": 29,
   "metadata": {},
   "outputs": [],
   "source": [
    "df['firm_location'] = df['firm_location'].apply(lambda x: x.text.strip('\\n'))\n"
   ]
  },
  {
   "cell_type": "code",
   "execution_count": 31,
   "metadata": {},
   "outputs": [
    {
     "data": {
      "text/html": [
       "<div>\n",
       "<style scoped>\n",
       "    .dataframe tbody tr th:only-of-type {\n",
       "        vertical-align: middle;\n",
       "    }\n",
       "\n",
       "    .dataframe tbody tr th {\n",
       "        vertical-align: top;\n",
       "    }\n",
       "\n",
       "    .dataframe thead th {\n",
       "        text-align: right;\n",
       "    }\n",
       "</style>\n",
       "<table border=\"1\" class=\"dataframe\">\n",
       "  <thead>\n",
       "    <tr style=\"text-align: right;\">\n",
       "      <th></th>\n",
       "      <th>firm_name</th>\n",
       "      <th>firm_motor</th>\n",
       "      <th>star_rating</th>\n",
       "      <th>review</th>\n",
       "      <th>firm_review</th>\n",
       "      <th>service_pct(%)</th>\n",
       "      <th>platform_pct(%)</th>\n",
       "      <th>firm_price</th>\n",
       "      <th>firm_employee</th>\n",
       "      <th>year_founded</th>\n",
       "      <th>firm_location</th>\n",
       "    </tr>\n",
       "  </thead>\n",
       "  <tbody>\n",
       "    <tr>\n",
       "      <th>0</th>\n",
       "      <td>SPEC INDIA</td>\n",
       "      <td>Enterprise Software, Mobility &amp; BI Solutions</td>\n",
       "      <td>4.8</td>\n",
       "      <td>26</td>\n",
       "      <td>4.8 (26 Reviews)</td>\n",
       "      <td>20</td>\n",
       "      <td>15</td>\n",
       "      <td>&lt; $25/hr</td>\n",
       "      <td>250 - 999</td>\n",
       "      <td>1987</td>\n",
       "      <td>India, United States</td>\n",
       "    </tr>\n",
       "    <tr>\n",
       "      <th>1</th>\n",
       "      <td>instinctools</td>\n",
       "      <td>Delivering the future. Now.</td>\n",
       "      <td>4.8</td>\n",
       "      <td>8</td>\n",
       "      <td>4.8 (8 Reviews)</td>\n",
       "      <td>5</td>\n",
       "      <td>10</td>\n",
       "      <td>$50 - $99/hr</td>\n",
       "      <td>250 - 999</td>\n",
       "      <td>2000</td>\n",
       "      <td>United States, Germany</td>\n",
       "    </tr>\n",
       "    <tr>\n",
       "      <th>2</th>\n",
       "      <td>SoluLab</td>\n",
       "      <td>Blockchain | IoT | Mobility | AI | Big Data</td>\n",
       "      <td>5.0</td>\n",
       "      <td>32</td>\n",
       "      <td>5.0 (32 Reviews)</td>\n",
       "      <td>15</td>\n",
       "      <td>15</td>\n",
       "      <td>$25 - $49/hr</td>\n",
       "      <td>50 - 249</td>\n",
       "      <td>2014</td>\n",
       "      <td>United States, India</td>\n",
       "    </tr>\n",
       "    <tr>\n",
       "      <th>3</th>\n",
       "      <td>Sigma Data Systems</td>\n",
       "      <td>Discover the world of Big Data with us!</td>\n",
       "      <td>4.7</td>\n",
       "      <td>5</td>\n",
       "      <td>4.7 (5 Reviews)</td>\n",
       "      <td>40</td>\n",
       "      <td>10</td>\n",
       "      <td>$25 - $49/hr</td>\n",
       "      <td>250 - 999</td>\n",
       "      <td>2010</td>\n",
       "      <td>United States, Australia</td>\n",
       "    </tr>\n",
       "    <tr>\n",
       "      <th>4</th>\n",
       "      <td>NeenOpal Inc.</td>\n",
       "      <td>The Hub Of Data Science Innovation</td>\n",
       "      <td>5.0</td>\n",
       "      <td>5</td>\n",
       "      <td>5.0 (5 Reviews)</td>\n",
       "      <td>25</td>\n",
       "      <td>10</td>\n",
       "      <td>$25 - $49/hr</td>\n",
       "      <td>10 - 49</td>\n",
       "      <td>2016</td>\n",
       "      <td>United States, India</td>\n",
       "    </tr>\n",
       "  </tbody>\n",
       "</table>\n",
       "</div>"
      ],
      "text/plain": [
       "            firm_name                                    firm_motor  \\\n",
       "0          SPEC INDIA  Enterprise Software, Mobility & BI Solutions   \n",
       "1        instinctools                   Delivering the future. Now.   \n",
       "2             SoluLab   Blockchain | IoT | Mobility | AI | Big Data   \n",
       "3  Sigma Data Systems       Discover the world of Big Data with us!   \n",
       "4       NeenOpal Inc.            The Hub Of Data Science Innovation   \n",
       "\n",
       "  star_rating review       firm_review service_pct(%) platform_pct(%)  \\\n",
       "0         4.8     26  4.8 (26 Reviews)             20              15   \n",
       "1         4.8      8   4.8 (8 Reviews)              5              10   \n",
       "2         5.0     32  5.0 (32 Reviews)             15              15   \n",
       "3         4.7      5   4.7 (5 Reviews)             40              10   \n",
       "4         5.0      5   5.0 (5 Reviews)             25              10   \n",
       "\n",
       "      firm_price firm_employee year_founded              firm_location  \n",
       "0      < $25/hr      250 - 999         1987      India, United States   \n",
       "1  $50 - $99/hr      250 - 999         2000    United States, Germany   \n",
       "2  $25 - $49/hr       50 - 249         2014      United States, India   \n",
       "3  $25 - $49/hr      250 - 999         2010  United States, Australia   \n",
       "4  $25 - $49/hr        10 - 49         2016      United States, India   "
      ]
     },
     "execution_count": 31,
     "metadata": {},
     "output_type": "execute_result"
    }
   ],
   "source": [
    "df.head(5)"
   ]
  }
 ],
 "metadata": {
  "kernelspec": {
   "display_name": "Python 3",
   "language": "python",
   "name": "python3"
  },
  "language_info": {
   "codemirror_mode": {
    "name": "ipython",
    "version": 3
   },
   "file_extension": ".py",
   "mimetype": "text/x-python",
   "name": "python",
   "nbconvert_exporter": "python",
   "pygments_lexer": "ipython3",
   "version": "3.9.12"
  },
  "orig_nbformat": 4,
  "vscode": {
   "interpreter": {
    "hash": "b68a3c467d07aa8b20c71071b0b7606f948be72d30c76b97a14d11803ebfb6c4"
   }
  }
 },
 "nbformat": 4,
 "nbformat_minor": 2
}
