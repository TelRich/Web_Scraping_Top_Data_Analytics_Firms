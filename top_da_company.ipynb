{
 "cells": [
  {
   "attachments": {},
   "cell_type": "markdown",
   "metadata": {},
   "source": [
    "# Web Scraping\n",
    "\n",
    "## Top Data Analytics Companies\n",
    "To improve effectiveness in business processes, companies are focussing on collecting and utilizing data. Data analytics companies enable businesses to analyze the acquired data and use them as required. Data analytics services can assist in product development, identifying potential market gaps, improving operational efficiency, etc. [Goodfirms](https://www.goodfirms.co/big-data-analytics/data-analytics)\n",
    "\n",
    "The aim of this project is to scrape Goodfirms website for details about top data analytics company. These details includes, review, rating, year founded, location, etc."
   ]
  },
  {
   "attachments": {},
   "cell_type": "markdown",
   "metadata": {},
   "source": [
    "### Road Map\n",
    "Stage 1\n",
    "* Download page\n",
    "* Open page\n",
    "* Get details\n",
    "* Extract details\n",
    "* Make a dataframe\n",
    "\n",
    "Stage 2 (Code Refactoring)\n",
    "* Change loops to function\n",
    "* Take functions to another file\n",
    "* Import functions and extract\n",
    "* Make a dataframe"
   ]
  },
  {
   "attachments": {},
   "cell_type": "markdown",
   "metadata": {},
   "source": [
    "### Libraries"
   ]
  },
  {
   "cell_type": "code",
   "execution_count": 1,
   "metadata": {},
   "outputs": [
    {
     "data": {
      "text/html": [
       "        <script type=\"text/javascript\">\n",
       "        window.PlotlyConfig = {MathJaxConfig: 'local'};\n",
       "        if (window.MathJax) {MathJax.Hub.Config({SVG: {font: \"STIX-Web\"}});}\n",
       "        if (typeof require !== 'undefined') {\n",
       "        require.undef(\"plotly\");\n",
       "        requirejs.config({\n",
       "            paths: {\n",
       "                'plotly': ['https://cdn.plot.ly/plotly-2.9.0.min']\n",
       "            }\n",
       "        });\n",
       "        require(['plotly'], function(Plotly) {\n",
       "            window._Plotly = Plotly;\n",
       "        });\n",
       "        }\n",
       "        </script>\n",
       "        "
      ]
     },
     "metadata": {},
     "output_type": "display_data"
    }
   ],
   "source": [
    "import requests as r\n",
    "from bs4 import BeautifulSoup\n",
    "import pandas as pd\n",
    "import plotly.express as px\n",
    "import plotly.offline as po\n",
    "po.init_notebook_mode(connected=True)"
   ]
  },
  {
   "attachments": {},
   "cell_type": "markdown",
   "metadata": {},
   "source": [
    "### Download and save HTML file"
   ]
  },
  {
   "cell_type": "code",
   "execution_count": 2,
   "metadata": {},
   "outputs": [],
   "source": [
    "# # URL link\n",
    "# url = 'https://www.goodfirms.co/big-data-analytics/data-analytics'\n",
    "# # access website\n",
    "# html = r.get(url)\n",
    "# with open('top_da_company1.html', mode='wb') as file:\n",
    "#     file.write(html.content)"
   ]
  },
  {
   "cell_type": "code",
   "execution_count": 3,
   "metadata": {},
   "outputs": [],
   "source": [
    "with open(\"top_da_company1.html\", encoding='utf-8', mode='r') as file:\n",
    "    bs = BeautifulSoup(file, 'lxml')\n",
    "    # bs = BeautifulSoup(file, 'html5lib')"
   ]
  },
  {
   "attachments": {},
   "cell_type": "markdown",
   "metadata": {},
   "source": [
    "### Locate Details"
   ]
  },
  {
   "cell_type": "code",
   "execution_count": 17,
   "metadata": {},
   "outputs": [],
   "source": [
    "firm_position = bs.find_all('span', {'class': \"position\"})\n",
    "firm_names = bs.find_all('span', {'itemprop': \"name\"})\n",
    "firm_motors = bs.find_all('p', {'class': \"profile-tagline\"})\n",
    "firm_reviews = bs.find_all('span', {'class': \"listinv_review_label\"})\n",
    "progress_value = bs.find_all('div', {'class': \"circle-progress-value\"})\n",
    "firm_prices = bs.find_all('div', {'class': \"firm-pricing\"})\n",
    "firm_emps = bs.find_all('div', {'class': \"firm-employees\"})\n",
    "firm_years = bs.find_all('div', {'class': \"firm-founded\"})\n",
    "firm_locations = bs.find_all('div', {'class': \"firm-location\"})"
   ]
  },
  {
   "attachments": {},
   "cell_type": "markdown",
   "metadata": {},
   "source": [
    "### Extract Details"
   ]
  },
  {
   "cell_type": "code",
   "execution_count": 19,
   "metadata": {},
   "outputs": [
    {
     "name": "stdout",
     "output_type": "stream",
     "text": [
      "51\n"
     ]
    },
    {
     "data": {
      "text/plain": [
       "['1', '2', '3', '4', '5']"
      ]
     },
     "execution_count": 19,
     "metadata": {},
     "output_type": "execute_result"
    }
   ],
   "source": [
    "pos_lst = []\n",
    "for pos in firm_position:\n",
    "    pos_lst.append(pos.text)\n",
    "\n",
    "print(len(pos_lst))\n",
    "pos_lst[:5]"
   ]
  },
  {
   "cell_type": "code",
   "execution_count": 5,
   "metadata": {},
   "outputs": [
    {
     "name": "stdout",
     "output_type": "stream",
     "text": [
      "51\n"
     ]
    },
    {
     "data": {
      "text/plain": [
       "['SPEC INDIA', 'instinctools', 'SoluLab']"
      ]
     },
     "execution_count": 5,
     "metadata": {},
     "output_type": "execute_result"
    }
   ],
   "source": [
    "names_lst = []\n",
    "for name in firm_names[3:]:\n",
    "    names_lst.append(name.text)\n",
    "    \n",
    "print(len(names_lst))\n",
    "names_lst[:3]"
   ]
  },
  {
   "cell_type": "code",
   "execution_count": 6,
   "metadata": {},
   "outputs": [
    {
     "name": "stdout",
     "output_type": "stream",
     "text": [
      "51\n"
     ]
    },
    {
     "data": {
      "text/plain": [
       "['Enterprise Software, Mobility & BI Solutions',\n",
       " 'Delivering the future. Now.',\n",
       " 'Blockchain | IoT | Mobility | AI | Big Data']"
      ]
     },
     "execution_count": 6,
     "metadata": {},
     "output_type": "execute_result"
    }
   ],
   "source": [
    "motor_lst = []\n",
    "for motor in firm_motors:\n",
    "    motor_lst.append(motor.text)\n",
    "\n",
    "print(len(motor_lst))\n",
    "motor_lst[:3]"
   ]
  },
  {
   "cell_type": "code",
   "execution_count": 7,
   "metadata": {},
   "outputs": [
    {
     "name": "stdout",
     "output_type": "stream",
     "text": [
      "51\n"
     ]
    },
    {
     "data": {
      "text/plain": [
       "['4.8 (26 Reviews)', '4.8 (8 Reviews)', '5.0 (32 Reviews)']"
      ]
     },
     "execution_count": 7,
     "metadata": {},
     "output_type": "execute_result"
    }
   ],
   "source": [
    "review_lst = []\n",
    "for review in firm_reviews:\n",
    "    review_lst.append(review.text)\n",
    "    \n",
    "print(len(review_lst))\n",
    "review_lst[:3]"
   ]
  },
  {
   "cell_type": "code",
   "execution_count": 8,
   "metadata": {},
   "outputs": [
    {
     "name": "stdout",
     "output_type": "stream",
     "text": [
      "51\n",
      "51\n",
      "['20%', '5%', '15%']\n",
      "['15%', '10%', '15%']\n"
     ]
    }
   ],
   "source": [
    "service_pct = []\n",
    "platform_pct = []\n",
    "for percent in enumerate(progress_value):\n",
    "    if percent[0] % 2 == 0:\n",
    "        service_pct.append(percent[1].text)\n",
    "    else:\n",
    "        platform_pct.append(percent[1].text)\n",
    "        \n",
    "print(len(service_pct))\n",
    "print(len(platform_pct))\n",
    "print(service_pct[:3])\n",
    "print(platform_pct[:3])"
   ]
  },
  {
   "cell_type": "code",
   "execution_count": 9,
   "metadata": {},
   "outputs": [
    {
     "name": "stdout",
     "output_type": "stream",
     "text": [
      "51\n"
     ]
    },
    {
     "data": {
      "text/plain": [
       "['\\n< $25/hr ', '\\n$50 - $99/hr ', '\\n$25 - $49/hr ']"
      ]
     },
     "execution_count": 9,
     "metadata": {},
     "output_type": "execute_result"
    }
   ],
   "source": [
    "price_lst = []\n",
    "for price in firm_prices:\n",
    "    price_lst.append(price.text)\n",
    "    \n",
    "print(len(price_lst))\n",
    "price_lst[:3]"
   ]
  },
  {
   "cell_type": "code",
   "execution_count": 10,
   "metadata": {},
   "outputs": [
    {
     "name": "stdout",
     "output_type": "stream",
     "text": [
      "51\n"
     ]
    },
    {
     "data": {
      "text/plain": [
       "['250 - 999', '250 - 999', '50 - 249']"
      ]
     },
     "execution_count": 10,
     "metadata": {},
     "output_type": "execute_result"
    }
   ],
   "source": [
    "emps_lst = []\n",
    "for emp in firm_emps:\n",
    "    emps_lst.append(emp.text)\n",
    "    \n",
    "print(len(emps_lst))\n",
    "emps_lst[:3]"
   ]
  },
  {
   "cell_type": "code",
   "execution_count": 11,
   "metadata": {},
   "outputs": [
    {
     "name": "stdout",
     "output_type": "stream",
     "text": [
      "51\n"
     ]
    },
    {
     "data": {
      "text/plain": [
       "['1987', '2000', '2014']"
      ]
     },
     "execution_count": 11,
     "metadata": {},
     "output_type": "execute_result"
    }
   ],
   "source": [
    "year_lst = []\n",
    "for year in firm_years:\n",
    "    year_lst.append(year.text)\n",
    "    \n",
    "print(len(year_lst))\n",
    "year_lst[:3]"
   ]
  },
  {
   "cell_type": "code",
   "execution_count": 12,
   "metadata": {},
   "outputs": [
    {
     "name": "stdout",
     "output_type": "stream",
     "text": [
      "51\n"
     ]
    },
    {
     "data": {
      "text/plain": [
       "['\\nIndia, United States ',\n",
       " '\\nUnited States, Germany ',\n",
       " '\\nUnited States, India ']"
      ]
     },
     "execution_count": 12,
     "metadata": {},
     "output_type": "execute_result"
    }
   ],
   "source": [
    "firm_lst = [firm.text for firm in firm_locations]\n",
    "print(len(firm_lst))\n",
    "firm_lst[:3]"
   ]
  },
  {
   "attachments": {},
   "cell_type": "markdown",
   "metadata": {},
   "source": [
    "### Put Details in a DataFrame"
   ]
  },
  {
   "cell_type": "code",
   "execution_count": 20,
   "metadata": {},
   "outputs": [],
   "source": [
    "df = pd.DataFrame()"
   ]
  },
  {
   "cell_type": "code",
   "execution_count": 21,
   "metadata": {},
   "outputs": [],
   "source": [
    "df['firm_position'] = pos_lst\n",
    "df['firm_name'] = names_lst\n",
    "df['firm_motor'] = motor_lst\n",
    "df['firm_review'] = review_lst\n",
    "df['service_pct'] = service_pct\n",
    "df['platform_pct'] = platform_pct\n",
    "df['firm_price'] = price_lst\n",
    "df['firm_employee'] = emps_lst\n",
    "df['year_founded'] = year_lst\n",
    "df['firm_location'] = firm_locations"
   ]
  },
  {
   "cell_type": "code",
   "execution_count": 22,
   "metadata": {},
   "outputs": [],
   "source": [
    "# df\n",
    "# df2 = df.copy()\n",
    "# pd.concat([df, df2])"
   ]
  },
  {
   "attachments": {},
   "cell_type": "markdown",
   "metadata": {},
   "source": [
    "Task\n",
    "Extract the remaining three details\n",
    "Download the second page and save it as \"top_da_company2.html\"\n",
    "Extract the same details as seen above\n",
    "Create a dataframe "
   ]
  },
  {
   "cell_type": "code",
   "execution_count": 38,
   "metadata": {},
   "outputs": [],
   "source": [
    "# URL link\n",
    "url = 'https://www.goodfirms.co/big-data-analytics/data-analytics?page=2'\n",
    "# access website\n",
    "html = r.get(url)\n",
    "with open('top_da_company2.html', mode='wb') as file:\n",
    "    file.write(html.content)"
   ]
  },
  {
   "cell_type": "code",
   "execution_count": 39,
   "metadata": {},
   "outputs": [],
   "source": [
    "with open(\"top_da_company2.html\", encoding='utf-8', mode='r') as file:\n",
    "    bs = BeautifulSoup(file, 'lxml')\n",
    "    # bs = BeautifulSoup(file, 'html5lib')"
   ]
  },
  {
   "cell_type": "code",
   "execution_count": 40,
   "metadata": {},
   "outputs": [],
   "source": [
    "firm_names = bs.find_all('span', {'itemprop': \"name\"})\n",
    "firm_motors = bs.find_all('p', {'class': \"profile-tagline\"})\n",
    "firm_reviews = bs.find_all('span', {'class': \"listinv_review_label\"})\n",
    "progress_value = bs.find_all('div', {'class': \"circle-progress-value\"})\n",
    "firm_prices = bs.find_all('div', {'class': \"firm-pricing\"})\n",
    "firm_emps = bs.find_all('div', {'class': \"firm-employees\"})\n",
    "firm_years = bs.find_all('div', {'class': \"firm-founded\"})\n",
    "firm_locations = bs.find_all('div', {'class': \"firm-location\"})"
   ]
  },
  {
   "cell_type": "code",
   "execution_count": 41,
   "metadata": {},
   "outputs": [],
   "source": [
    "import functions as fn"
   ]
  },
  {
   "cell_type": "code",
   "execution_count": 42,
   "metadata": {},
   "outputs": [
    {
     "name": "stdout",
     "output_type": "stream",
     "text": [
      "The number of name extracted is 51\n"
     ]
    },
    {
     "data": {
      "text/plain": [
       "0                           Systango Technologies\n",
       "1                                         Inoxoft\n",
       "2    Noventum Custom Software Development Company\n",
       "3                   Napollo Software Design L.L.C\n",
       "4                        SemiDot Infotech Pvt Ltd\n",
       "dtype: object"
      ]
     },
     "execution_count": 42,
     "metadata": {},
     "output_type": "execute_result"
    }
   ],
   "source": [
    "fn.extract_names(firm_names)[:5]"
   ]
  },
  {
   "cell_type": "code",
   "execution_count": 49,
   "metadata": {},
   "outputs": [
    {
     "name": "stdout",
     "output_type": "stream",
     "text": [
      "The number of firm motor extracted is 51\n"
     ]
    },
    {
     "data": {
      "text/plain": [
       "0                    We Make the Impossible, Possible!\n",
       "1    IEC/ISO 27001, Google, Microsoft Certified Com...\n",
       "2      Custom Software & Web Development in New Mexico\n",
       "3      Best Software Design Agency in Dubai & New York\n",
       "4            Right Technology Partner for IT Solutions\n",
       "dtype: object"
      ]
     },
     "execution_count": 49,
     "metadata": {},
     "output_type": "execute_result"
    }
   ],
   "source": [
    "fn.extract_motors(firm_motors)[:5]"
   ]
  },
  {
   "cell_type": "code",
   "execution_count": 26,
   "metadata": {},
   "outputs": [
    {
     "name": "stdout",
     "output_type": "stream",
     "text": [
      "The number of review extracted is 51\n"
     ]
    },
    {
     "data": {
      "text/plain": [
       "0    4.8 (26 Reviews)\n",
       "1     4.8 (8 Reviews)\n",
       "2    5.0 (32 Reviews)\n",
       "3     4.7 (5 Reviews)\n",
       "4     5.0 (5 Reviews)\n",
       "dtype: object"
      ]
     },
     "execution_count": 26,
     "metadata": {},
     "output_type": "execute_result"
    }
   ],
   "source": [
    "fn.extract_reviews(firm_reviews)[:5]"
   ]
  },
  {
   "cell_type": "code",
   "execution_count": 27,
   "metadata": {},
   "outputs": [
    {
     "name": "stdout",
     "output_type": "stream",
     "text": [
      "The number of service percent is 51\n",
      "The number of platform percent is 51\n"
     ]
    },
    {
     "data": {
      "text/plain": [
       "0    20%\n",
       "1     5%\n",
       "2    15%\n",
       "3    40%\n",
       "4    25%\n",
       "dtype: object"
      ]
     },
     "execution_count": 27,
     "metadata": {},
     "output_type": "execute_result"
    }
   ],
   "source": [
    "fn.extract_progress_values(progress_value)[0][:5]"
   ]
  },
  {
   "cell_type": "code",
   "execution_count": 28,
   "metadata": {},
   "outputs": [
    {
     "name": "stdout",
     "output_type": "stream",
     "text": [
      "The number of price extracted is 51\n"
     ]
    },
    {
     "data": {
      "text/plain": [
       "0        \\n< $25/hr \n",
       "1    \\n$50 - $99/hr \n",
       "2    \\n$25 - $49/hr \n",
       "3    \\n$25 - $49/hr \n",
       "4    \\n$25 - $49/hr \n",
       "dtype: object"
      ]
     },
     "execution_count": 28,
     "metadata": {},
     "output_type": "execute_result"
    }
   ],
   "source": [
    "fn.exttract_prices(firm_prices)[:5]"
   ]
  },
  {
   "cell_type": "code",
   "execution_count": 29,
   "metadata": {},
   "outputs": [
    {
     "name": "stdout",
     "output_type": "stream",
     "text": [
      "The number of employees extracted is 51\n"
     ]
    },
    {
     "data": {
      "text/plain": [
       "0    250 - 999\n",
       "1    250 - 999\n",
       "2     50 - 249\n",
       "3    250 - 999\n",
       "4      10 - 49\n",
       "dtype: object"
      ]
     },
     "execution_count": 29,
     "metadata": {},
     "output_type": "execute_result"
    }
   ],
   "source": [
    "fn.extract_employees(firm_emps)[:5]"
   ]
  },
  {
   "cell_type": "code",
   "execution_count": 30,
   "metadata": {},
   "outputs": [
    {
     "name": "stdout",
     "output_type": "stream",
     "text": [
      "The number of year extracted is 51\n"
     ]
    },
    {
     "data": {
      "text/plain": [
       "0    1987\n",
       "1    2000\n",
       "2    2014\n",
       "3    2010\n",
       "4    2016\n",
       "dtype: object"
      ]
     },
     "execution_count": 30,
     "metadata": {},
     "output_type": "execute_result"
    }
   ],
   "source": [
    "fn.extract_founded_year(firm_years)[:5]"
   ]
  },
  {
   "cell_type": "code",
   "execution_count": 31,
   "metadata": {},
   "outputs": [
    {
     "name": "stdout",
     "output_type": "stream",
     "text": [
      "The number of locations extracted is 51\n"
     ]
    },
    {
     "data": {
      "text/plain": [
       "0        \\nIndia, United States \n",
       "1      \\nUnited States, Germany \n",
       "2        \\nUnited States, India \n",
       "3    \\nUnited States, Australia \n",
       "4        \\nUnited States, India \n",
       "dtype: object"
      ]
     },
     "execution_count": 31,
     "metadata": {},
     "output_type": "execute_result"
    }
   ],
   "source": [
    "fn.extract_locations(firm_locations)[:5]"
   ]
  },
  {
   "attachments": {},
   "cell_type": "markdown",
   "metadata": {},
   "source": [
    "### Data Cleaning"
   ]
  },
  {
   "cell_type": "code",
   "execution_count": 23,
   "metadata": {},
   "outputs": [
    {
     "data": {
      "text/html": [
       "<div>\n",
       "<style scoped>\n",
       "    .dataframe tbody tr th:only-of-type {\n",
       "        vertical-align: middle;\n",
       "    }\n",
       "\n",
       "    .dataframe tbody tr th {\n",
       "        vertical-align: top;\n",
       "    }\n",
       "\n",
       "    .dataframe thead th {\n",
       "        text-align: right;\n",
       "    }\n",
       "</style>\n",
       "<table border=\"1\" class=\"dataframe\">\n",
       "  <thead>\n",
       "    <tr style=\"text-align: right;\">\n",
       "      <th></th>\n",
       "      <th>firm_position</th>\n",
       "      <th>firm_name</th>\n",
       "      <th>firm_motor</th>\n",
       "      <th>firm_review</th>\n",
       "      <th>service_pct</th>\n",
       "      <th>platform_pct</th>\n",
       "      <th>firm_price</th>\n",
       "      <th>firm_employee</th>\n",
       "      <th>year_founded</th>\n",
       "      <th>firm_location</th>\n",
       "    </tr>\n",
       "  </thead>\n",
       "  <tbody>\n",
       "    <tr>\n",
       "      <th>0</th>\n",
       "      <td>1</td>\n",
       "      <td>SPEC INDIA</td>\n",
       "      <td>Enterprise Software, Mobility &amp; BI Solutions</td>\n",
       "      <td>4.8 (26 Reviews)</td>\n",
       "      <td>20%</td>\n",
       "      <td>15%</td>\n",
       "      <td>\\n&lt; $25/hr</td>\n",
       "      <td>250 - 999</td>\n",
       "      <td>1987</td>\n",
       "      <td>[\\nIndia, United States ]</td>\n",
       "    </tr>\n",
       "    <tr>\n",
       "      <th>1</th>\n",
       "      <td>2</td>\n",
       "      <td>instinctools</td>\n",
       "      <td>Delivering the future. Now.</td>\n",
       "      <td>4.8 (8 Reviews)</td>\n",
       "      <td>5%</td>\n",
       "      <td>10%</td>\n",
       "      <td>\\n$50 - $99/hr</td>\n",
       "      <td>250 - 999</td>\n",
       "      <td>2000</td>\n",
       "      <td>[\\nUnited States, Germany ]</td>\n",
       "    </tr>\n",
       "    <tr>\n",
       "      <th>2</th>\n",
       "      <td>3</td>\n",
       "      <td>SoluLab</td>\n",
       "      <td>Blockchain | IoT | Mobility | AI | Big Data</td>\n",
       "      <td>5.0 (32 Reviews)</td>\n",
       "      <td>15%</td>\n",
       "      <td>15%</td>\n",
       "      <td>\\n$25 - $49/hr</td>\n",
       "      <td>50 - 249</td>\n",
       "      <td>2014</td>\n",
       "      <td>[\\nUnited States, India ]</td>\n",
       "    </tr>\n",
       "    <tr>\n",
       "      <th>3</th>\n",
       "      <td>4</td>\n",
       "      <td>Sigma Data Systems</td>\n",
       "      <td>Discover the world of Big Data with us!</td>\n",
       "      <td>4.7 (5 Reviews)</td>\n",
       "      <td>40%</td>\n",
       "      <td>10%</td>\n",
       "      <td>\\n$25 - $49/hr</td>\n",
       "      <td>250 - 999</td>\n",
       "      <td>2010</td>\n",
       "      <td>[\\nUnited States, Australia ]</td>\n",
       "    </tr>\n",
       "    <tr>\n",
       "      <th>4</th>\n",
       "      <td>5</td>\n",
       "      <td>NeenOpal Inc.</td>\n",
       "      <td>The Hub Of Data Science Innovation</td>\n",
       "      <td>5.0 (5 Reviews)</td>\n",
       "      <td>25%</td>\n",
       "      <td>10%</td>\n",
       "      <td>\\n$25 - $49/hr</td>\n",
       "      <td>10 - 49</td>\n",
       "      <td>2016</td>\n",
       "      <td>[\\nUnited States, India ]</td>\n",
       "    </tr>\n",
       "  </tbody>\n",
       "</table>\n",
       "</div>"
      ],
      "text/plain": [
       "  firm_position           firm_name  \\\n",
       "0             1          SPEC INDIA   \n",
       "1             2        instinctools   \n",
       "2             3             SoluLab   \n",
       "3             4  Sigma Data Systems   \n",
       "4             5       NeenOpal Inc.   \n",
       "\n",
       "                                     firm_motor       firm_review service_pct  \\\n",
       "0  Enterprise Software, Mobility & BI Solutions  4.8 (26 Reviews)         20%   \n",
       "1                   Delivering the future. Now.   4.8 (8 Reviews)          5%   \n",
       "2   Blockchain | IoT | Mobility | AI | Big Data  5.0 (32 Reviews)         15%   \n",
       "3       Discover the world of Big Data with us!   4.7 (5 Reviews)         40%   \n",
       "4            The Hub Of Data Science Innovation   5.0 (5 Reviews)         25%   \n",
       "\n",
       "  platform_pct       firm_price firm_employee year_founded  \\\n",
       "0          15%      \\n< $25/hr      250 - 999         1987   \n",
       "1          10%  \\n$50 - $99/hr      250 - 999         2000   \n",
       "2          15%  \\n$25 - $49/hr       50 - 249         2014   \n",
       "3          10%  \\n$25 - $49/hr      250 - 999         2010   \n",
       "4          10%  \\n$25 - $49/hr        10 - 49         2016   \n",
       "\n",
       "                   firm_location  \n",
       "0      [\\nIndia, United States ]  \n",
       "1    [\\nUnited States, Germany ]  \n",
       "2      [\\nUnited States, India ]  \n",
       "3  [\\nUnited States, Australia ]  \n",
       "4      [\\nUnited States, India ]  "
      ]
     },
     "execution_count": 23,
     "metadata": {},
     "output_type": "execute_result"
    }
   ],
   "source": [
    "df.head(5)"
   ]
  },
  {
   "cell_type": "code",
   "execution_count": 24,
   "metadata": {},
   "outputs": [],
   "source": [
    "df.insert(2, 'star_rating', df['firm_review'].apply(lambda x: x.split()[0]))"
   ]
  },
  {
   "cell_type": "code",
   "execution_count": 25,
   "metadata": {},
   "outputs": [],
   "source": [
    "df.insert(3, 'review', df['firm_review'].apply(lambda x: x.split()[1].strip('(')))"
   ]
  },
  {
   "cell_type": "code",
   "execution_count": 26,
   "metadata": {},
   "outputs": [],
   "source": [
    "df.rename(columns={'service_pct':'service_pct(%)'}, inplace=True)\n",
    "df['service_pct(%)'] = df['service_pct(%)'].apply(lambda x: x.strip('%'))"
   ]
  },
  {
   "cell_type": "code",
   "execution_count": 27,
   "metadata": {},
   "outputs": [],
   "source": [
    "df.rename(columns={'platform_pct':'platform_pct(%)'}, inplace=True)\n",
    "df['platform_pct(%)'] = df['platform_pct(%)'].apply(lambda x: x.strip('%'))"
   ]
  },
  {
   "cell_type": "code",
   "execution_count": 28,
   "metadata": {},
   "outputs": [],
   "source": [
    "df['firm_price'] = df['firm_price'].apply(lambda x: x.strip('\\n'))"
   ]
  },
  {
   "cell_type": "code",
   "execution_count": 29,
   "metadata": {},
   "outputs": [],
   "source": [
    "df['firm_location'] = df['firm_location'].apply(lambda x: x.text.strip('\\n'))"
   ]
  },
  {
   "cell_type": "code",
   "execution_count": 30,
   "metadata": {},
   "outputs": [],
   "source": [
    "df.drop(columns='firm_review', inplace=True)"
   ]
  },
  {
   "cell_type": "code",
   "execution_count": 31,
   "metadata": {},
   "outputs": [
    {
     "data": {
      "text/html": [
       "<div>\n",
       "<style scoped>\n",
       "    .dataframe tbody tr th:only-of-type {\n",
       "        vertical-align: middle;\n",
       "    }\n",
       "\n",
       "    .dataframe tbody tr th {\n",
       "        vertical-align: top;\n",
       "    }\n",
       "\n",
       "    .dataframe thead th {\n",
       "        text-align: right;\n",
       "    }\n",
       "</style>\n",
       "<table border=\"1\" class=\"dataframe\">\n",
       "  <thead>\n",
       "    <tr style=\"text-align: right;\">\n",
       "      <th></th>\n",
       "      <th>firm_position</th>\n",
       "      <th>firm_name</th>\n",
       "      <th>star_rating</th>\n",
       "      <th>review</th>\n",
       "      <th>firm_motor</th>\n",
       "      <th>service_pct(%)</th>\n",
       "      <th>platform_pct(%)</th>\n",
       "      <th>firm_price</th>\n",
       "      <th>firm_employee</th>\n",
       "      <th>year_founded</th>\n",
       "      <th>firm_location</th>\n",
       "    </tr>\n",
       "  </thead>\n",
       "  <tbody>\n",
       "    <tr>\n",
       "      <th>0</th>\n",
       "      <td>1</td>\n",
       "      <td>SPEC INDIA</td>\n",
       "      <td>4.8</td>\n",
       "      <td>26</td>\n",
       "      <td>Enterprise Software, Mobility &amp; BI Solutions</td>\n",
       "      <td>20</td>\n",
       "      <td>15</td>\n",
       "      <td>&lt; $25/hr</td>\n",
       "      <td>250 - 999</td>\n",
       "      <td>1987</td>\n",
       "      <td>India, United States</td>\n",
       "    </tr>\n",
       "    <tr>\n",
       "      <th>1</th>\n",
       "      <td>2</td>\n",
       "      <td>instinctools</td>\n",
       "      <td>4.8</td>\n",
       "      <td>8</td>\n",
       "      <td>Delivering the future. Now.</td>\n",
       "      <td>5</td>\n",
       "      <td>10</td>\n",
       "      <td>$50 - $99/hr</td>\n",
       "      <td>250 - 999</td>\n",
       "      <td>2000</td>\n",
       "      <td>United States, Germany</td>\n",
       "    </tr>\n",
       "    <tr>\n",
       "      <th>2</th>\n",
       "      <td>3</td>\n",
       "      <td>SoluLab</td>\n",
       "      <td>5.0</td>\n",
       "      <td>32</td>\n",
       "      <td>Blockchain | IoT | Mobility | AI | Big Data</td>\n",
       "      <td>15</td>\n",
       "      <td>15</td>\n",
       "      <td>$25 - $49/hr</td>\n",
       "      <td>50 - 249</td>\n",
       "      <td>2014</td>\n",
       "      <td>United States, India</td>\n",
       "    </tr>\n",
       "    <tr>\n",
       "      <th>3</th>\n",
       "      <td>4</td>\n",
       "      <td>Sigma Data Systems</td>\n",
       "      <td>4.7</td>\n",
       "      <td>5</td>\n",
       "      <td>Discover the world of Big Data with us!</td>\n",
       "      <td>40</td>\n",
       "      <td>10</td>\n",
       "      <td>$25 - $49/hr</td>\n",
       "      <td>250 - 999</td>\n",
       "      <td>2010</td>\n",
       "      <td>United States, Australia</td>\n",
       "    </tr>\n",
       "    <tr>\n",
       "      <th>4</th>\n",
       "      <td>5</td>\n",
       "      <td>NeenOpal Inc.</td>\n",
       "      <td>5.0</td>\n",
       "      <td>5</td>\n",
       "      <td>The Hub Of Data Science Innovation</td>\n",
       "      <td>25</td>\n",
       "      <td>10</td>\n",
       "      <td>$25 - $49/hr</td>\n",
       "      <td>10 - 49</td>\n",
       "      <td>2016</td>\n",
       "      <td>United States, India</td>\n",
       "    </tr>\n",
       "  </tbody>\n",
       "</table>\n",
       "</div>"
      ],
      "text/plain": [
       "  firm_position           firm_name star_rating review  \\\n",
       "0             1          SPEC INDIA         4.8     26   \n",
       "1             2        instinctools         4.8      8   \n",
       "2             3             SoluLab         5.0     32   \n",
       "3             4  Sigma Data Systems         4.7      5   \n",
       "4             5       NeenOpal Inc.         5.0      5   \n",
       "\n",
       "                                     firm_motor service_pct(%)  \\\n",
       "0  Enterprise Software, Mobility & BI Solutions             20   \n",
       "1                   Delivering the future. Now.              5   \n",
       "2   Blockchain | IoT | Mobility | AI | Big Data             15   \n",
       "3       Discover the world of Big Data with us!             40   \n",
       "4            The Hub Of Data Science Innovation             25   \n",
       "\n",
       "  platform_pct(%)     firm_price firm_employee year_founded  \\\n",
       "0              15      < $25/hr      250 - 999         1987   \n",
       "1              10  $50 - $99/hr      250 - 999         2000   \n",
       "2              15  $25 - $49/hr       50 - 249         2014   \n",
       "3              10  $25 - $49/hr      250 - 999         2010   \n",
       "4              10  $25 - $49/hr        10 - 49         2016   \n",
       "\n",
       "               firm_location  \n",
       "0      India, United States   \n",
       "1    United States, Germany   \n",
       "2      United States, India   \n",
       "3  United States, Australia   \n",
       "4      United States, India   "
      ]
     },
     "execution_count": 31,
     "metadata": {},
     "output_type": "execute_result"
    }
   ],
   "source": [
    "df.head(5)"
   ]
  },
  {
   "cell_type": "code",
   "execution_count": 90,
   "metadata": {},
   "outputs": [
    {
     "name": "stdout",
     "output_type": "stream",
     "text": [
      "<class 'pandas.core.frame.DataFrame'>\n",
      "RangeIndex: 51 entries, 0 to 50\n",
      "Data columns (total 11 columns):\n",
      " #   Column           Non-Null Count  Dtype \n",
      "---  ------           --------------  ----- \n",
      " 0   firm_position    51 non-null     object\n",
      " 1   firm_name        51 non-null     object\n",
      " 2   star_rating      51 non-null     object\n",
      " 3   review           51 non-null     object\n",
      " 4   firm_motor       51 non-null     object\n",
      " 5   service_pct(%)   51 non-null     object\n",
      " 6   platform_pct(%)  51 non-null     object\n",
      " 7   firm_price       51 non-null     object\n",
      " 8   firm_employee    51 non-null     object\n",
      " 9   year_founded     51 non-null     object\n",
      " 10  firm_location    51 non-null     object\n",
      "dtypes: object(11)\n",
      "memory usage: 4.5+ KB\n"
     ]
    }
   ],
   "source": [
    "df.info()"
   ]
  },
  {
   "cell_type": "code",
   "execution_count": null,
   "metadata": {},
   "outputs": [],
   "source": []
  },
  {
   "attachments": {},
   "cell_type": "markdown",
   "metadata": {},
   "source": [
    "### EDA"
   ]
  },
  {
   "cell_type": "code",
   "execution_count": 89,
   "metadata": {},
   "outputs": [
    {
     "data": {
      "text/html": [
       "<div>\n",
       "<style scoped>\n",
       "    .dataframe tbody tr th:only-of-type {\n",
       "        vertical-align: middle;\n",
       "    }\n",
       "\n",
       "    .dataframe tbody tr th {\n",
       "        vertical-align: top;\n",
       "    }\n",
       "\n",
       "    .dataframe thead th {\n",
       "        text-align: right;\n",
       "    }\n",
       "</style>\n",
       "<table border=\"1\" class=\"dataframe\">\n",
       "  <thead>\n",
       "    <tr style=\"text-align: right;\">\n",
       "      <th></th>\n",
       "      <th>firm_position</th>\n",
       "      <th>firm_name</th>\n",
       "      <th>star_rating</th>\n",
       "      <th>review</th>\n",
       "      <th>firm_motor</th>\n",
       "      <th>service_pct(%)</th>\n",
       "      <th>platform_pct(%)</th>\n",
       "      <th>firm_price</th>\n",
       "      <th>firm_employee</th>\n",
       "      <th>year_founded</th>\n",
       "      <th>firm_location</th>\n",
       "    </tr>\n",
       "  </thead>\n",
       "  <tbody>\n",
       "    <tr>\n",
       "      <th>50</th>\n",
       "      <td>51</td>\n",
       "      <td>Burning Buttons LLC</td>\n",
       "      <td>5.0</td>\n",
       "      <td>6</td>\n",
       "      <td>Digital boost for your business to succeed!</td>\n",
       "      <td>10</td>\n",
       "      <td>50</td>\n",
       "      <td>$25 - $49/hr</td>\n",
       "      <td>50 - 249</td>\n",
       "      <td>2009</td>\n",
       "      <td>Germany, Russia</td>\n",
       "    </tr>\n",
       "    <tr>\n",
       "      <th>47</th>\n",
       "      <td>48</td>\n",
       "      <td>BR Softech Pvt Ltd</td>\n",
       "      <td>4.5</td>\n",
       "      <td>10</td>\n",
       "      <td>Website &amp; Mobile Apps Development Company</td>\n",
       "      <td>5</td>\n",
       "      <td>50</td>\n",
       "      <td>$25 - $49/hr</td>\n",
       "      <td>1,000 - 9,999</td>\n",
       "      <td>2012</td>\n",
       "      <td>India, United States</td>\n",
       "    </tr>\n",
       "    <tr>\n",
       "      <th>37</th>\n",
       "      <td>38</td>\n",
       "      <td>Sunflower Lab</td>\n",
       "      <td>4.9</td>\n",
       "      <td>13</td>\n",
       "      <td>Sunflower Lab</td>\n",
       "      <td>5</td>\n",
       "      <td>50</td>\n",
       "      <td>$50 - $99/hr</td>\n",
       "      <td>50 - 249</td>\n",
       "      <td>2010</td>\n",
       "      <td>United States</td>\n",
       "    </tr>\n",
       "    <tr>\n",
       "      <th>36</th>\n",
       "      <td>37</td>\n",
       "      <td>Prismetric</td>\n",
       "      <td>4.7</td>\n",
       "      <td>14</td>\n",
       "      <td>Delivering Quality Products and Premium Services</td>\n",
       "      <td>5</td>\n",
       "      <td>50</td>\n",
       "      <td>&lt; $25/hr</td>\n",
       "      <td>50 - 249</td>\n",
       "      <td>2008</td>\n",
       "      <td>India, United States</td>\n",
       "    </tr>\n",
       "    <tr>\n",
       "      <th>34</th>\n",
       "      <td>35</td>\n",
       "      <td>WebClues Infotech</td>\n",
       "      <td>4.6</td>\n",
       "      <td>15</td>\n",
       "      <td>Your Vision, Our Creation</td>\n",
       "      <td>5</td>\n",
       "      <td>50</td>\n",
       "      <td>$25 - $49/hr</td>\n",
       "      <td>50 - 249</td>\n",
       "      <td>2014</td>\n",
       "      <td>Canada</td>\n",
       "    </tr>\n",
       "    <tr>\n",
       "      <th>32</th>\n",
       "      <td>33</td>\n",
       "      <td>Welby Consulting</td>\n",
       "      <td>3.4</td>\n",
       "      <td>5</td>\n",
       "      <td>The Future of Digital</td>\n",
       "      <td>10</td>\n",
       "      <td>50</td>\n",
       "      <td>$100 - $149/hr</td>\n",
       "      <td>2 - 9</td>\n",
       "      <td>2015</td>\n",
       "      <td>Canada</td>\n",
       "    </tr>\n",
       "    <tr>\n",
       "      <th>18</th>\n",
       "      <td>19</td>\n",
       "      <td>Broscorp</td>\n",
       "      <td>4.9</td>\n",
       "      <td>4</td>\n",
       "      <td>Delivering software that helps businesses to grow</td>\n",
       "      <td>10</td>\n",
       "      <td>50</td>\n",
       "      <td>$25 - $49/hr</td>\n",
       "      <td>10 - 49</td>\n",
       "      <td>2016</td>\n",
       "      <td>Ukraine</td>\n",
       "    </tr>\n",
       "    <tr>\n",
       "      <th>13</th>\n",
       "      <td>14</td>\n",
       "      <td>Huspi</td>\n",
       "      <td>5.0</td>\n",
       "      <td>6</td>\n",
       "      <td>Transforming ideas into user-friendly software.</td>\n",
       "      <td>10</td>\n",
       "      <td>50</td>\n",
       "      <td>$50 - $99/hr</td>\n",
       "      <td>10 - 49</td>\n",
       "      <td>2015</td>\n",
       "      <td>Poland, Ukraine</td>\n",
       "    </tr>\n",
       "    <tr>\n",
       "      <th>15</th>\n",
       "      <td>16</td>\n",
       "      <td>Fayrix</td>\n",
       "      <td>5.0</td>\n",
       "      <td>8</td>\n",
       "      <td>Remote software teams &amp; services for startups.</td>\n",
       "      <td>10</td>\n",
       "      <td>5</td>\n",
       "      <td>&lt; $25/hr</td>\n",
       "      <td>1,000 - 9,999</td>\n",
       "      <td>2005</td>\n",
       "      <td>Israel</td>\n",
       "    </tr>\n",
       "    <tr>\n",
       "      <th>41</th>\n",
       "      <td>42</td>\n",
       "      <td>7EDGE</td>\n",
       "      <td>5.0</td>\n",
       "      <td>14</td>\n",
       "      <td>Software and Product Development | Dedicated T...</td>\n",
       "      <td>5</td>\n",
       "      <td>5</td>\n",
       "      <td>$25 - $49/hr</td>\n",
       "      <td>50 - 249</td>\n",
       "      <td>2010</td>\n",
       "      <td>India, United States</td>\n",
       "    </tr>\n",
       "    <tr>\n",
       "      <th>8</th>\n",
       "      <td>9</td>\n",
       "      <td>Datapine</td>\n",
       "      <td>5.0</td>\n",
       "      <td>3</td>\n",
       "      <td>BUSINESS INTELLIGENCE MADE EASY</td>\n",
       "      <td>90</td>\n",
       "      <td>5</td>\n",
       "      <td>$50 - $99/hr</td>\n",
       "      <td>10 - 49</td>\n",
       "      <td>2012</td>\n",
       "      <td>Germany</td>\n",
       "    </tr>\n",
       "    <tr>\n",
       "      <th>11</th>\n",
       "      <td>12</td>\n",
       "      <td>Intellias</td>\n",
       "      <td>5.0</td>\n",
       "      <td>5</td>\n",
       "      <td>Global Technology Partner</td>\n",
       "      <td>15</td>\n",
       "      <td>5</td>\n",
       "      <td>$25 - $49/hr</td>\n",
       "      <td>1,000 - 9,999</td>\n",
       "      <td>2002</td>\n",
       "      <td>Ukraine, United States</td>\n",
       "    </tr>\n",
       "    <tr>\n",
       "      <th>14</th>\n",
       "      <td>15</td>\n",
       "      <td>Rudder Analytics</td>\n",
       "      <td>4.8</td>\n",
       "      <td>3</td>\n",
       "      <td>Steering Your Business.</td>\n",
       "      <td>90</td>\n",
       "      <td>5</td>\n",
       "      <td>$25 - $49/hr</td>\n",
       "      <td>10 - 49</td>\n",
       "      <td>2015</td>\n",
       "      <td>India</td>\n",
       "    </tr>\n",
       "    <tr>\n",
       "      <th>43</th>\n",
       "      <td>44</td>\n",
       "      <td>OpenGeeksLab</td>\n",
       "      <td>5.0</td>\n",
       "      <td>12</td>\n",
       "      <td>Your Software Development Partner</td>\n",
       "      <td>10</td>\n",
       "      <td>30</td>\n",
       "      <td>$25 - $49/hr</td>\n",
       "      <td>50 - 249</td>\n",
       "      <td>2015</td>\n",
       "      <td>Sweden, United States</td>\n",
       "    </tr>\n",
       "    <tr>\n",
       "      <th>28</th>\n",
       "      <td>29</td>\n",
       "      <td>ScaleupAlly</td>\n",
       "      <td>4.8</td>\n",
       "      <td>3</td>\n",
       "      <td>Scaleup the development of your Business Idea</td>\n",
       "      <td>30</td>\n",
       "      <td>30</td>\n",
       "      <td>$25 - $49/hr</td>\n",
       "      <td>10 - 49</td>\n",
       "      <td>2017</td>\n",
       "      <td>India</td>\n",
       "    </tr>\n",
       "    <tr>\n",
       "      <th>25</th>\n",
       "      <td>26</td>\n",
       "      <td>InData Labs</td>\n",
       "      <td>5.0</td>\n",
       "      <td>1</td>\n",
       "      <td>Big on Data Science and AI</td>\n",
       "      <td>30</td>\n",
       "      <td>30</td>\n",
       "      <td>$50 - $99/hr</td>\n",
       "      <td>50 - 249</td>\n",
       "      <td>2014</td>\n",
       "      <td>Cyprus, Singapore</td>\n",
       "    </tr>\n",
       "    <tr>\n",
       "      <th>26</th>\n",
       "      <td>27</td>\n",
       "      <td>Aegis Soft Tech</td>\n",
       "      <td>5.0</td>\n",
       "      <td>2</td>\n",
       "      <td>Software Development Expert</td>\n",
       "      <td>5</td>\n",
       "      <td>25</td>\n",
       "      <td>$25 - $49/hr</td>\n",
       "      <td>50 - 249</td>\n",
       "      <td>2003</td>\n",
       "      <td>India</td>\n",
       "    </tr>\n",
       "    <tr>\n",
       "      <th>44</th>\n",
       "      <td>45</td>\n",
       "      <td>TrendLine Global</td>\n",
       "      <td>5.0</td>\n",
       "      <td>11</td>\n",
       "      <td>Custom Software Development Company</td>\n",
       "      <td>5</td>\n",
       "      <td>25</td>\n",
       "      <td>$25 - $49/hr</td>\n",
       "      <td>50 - 249</td>\n",
       "      <td>2010</td>\n",
       "      <td>Ukraine, United Kingdom</td>\n",
       "    </tr>\n",
       "    <tr>\n",
       "      <th>19</th>\n",
       "      <td>20</td>\n",
       "      <td>Clustox</td>\n",
       "      <td>5.0</td>\n",
       "      <td>5</td>\n",
       "      <td>The House of Innovation</td>\n",
       "      <td>10</td>\n",
       "      <td>25</td>\n",
       "      <td>&lt; $25/hr</td>\n",
       "      <td>10 - 49</td>\n",
       "      <td>2012</td>\n",
       "      <td>Pakistan</td>\n",
       "    </tr>\n",
       "    <tr>\n",
       "      <th>20</th>\n",
       "      <td>21</td>\n",
       "      <td>VITech</td>\n",
       "      <td>5.0</td>\n",
       "      <td>3</td>\n",
       "      <td>Software development powerhouse</td>\n",
       "      <td>30</td>\n",
       "      <td>25</td>\n",
       "      <td>$50 - $99/hr</td>\n",
       "      <td>50 - 249</td>\n",
       "      <td>2007</td>\n",
       "      <td>Ukraine</td>\n",
       "    </tr>\n",
       "    <tr>\n",
       "      <th>21</th>\n",
       "      <td>22</td>\n",
       "      <td>GFAIVE</td>\n",
       "      <td>5.0</td>\n",
       "      <td>2</td>\n",
       "      <td>Demand forecasting for Fashion Retail</td>\n",
       "      <td>20</td>\n",
       "      <td>25</td>\n",
       "      <td>NA</td>\n",
       "      <td>10 - 49</td>\n",
       "      <td>2018</td>\n",
       "      <td>Georgia</td>\n",
       "    </tr>\n",
       "    <tr>\n",
       "      <th>46</th>\n",
       "      <td>47</td>\n",
       "      <td>HQSoftware</td>\n",
       "      <td>4.9</td>\n",
       "      <td>11</td>\n",
       "      <td>IoT, AR, VR, and custom software development</td>\n",
       "      <td>5</td>\n",
       "      <td>25</td>\n",
       "      <td>$25 - $49/hr</td>\n",
       "      <td>50 - 249</td>\n",
       "      <td>2001</td>\n",
       "      <td>United States, Georgia</td>\n",
       "    </tr>\n",
       "    <tr>\n",
       "      <th>31</th>\n",
       "      <td>32</td>\n",
       "      <td>S-PRO</td>\n",
       "      <td>5.0</td>\n",
       "      <td>30</td>\n",
       "      <td>Strategic partner.</td>\n",
       "      <td>10</td>\n",
       "      <td>25</td>\n",
       "      <td>$50 - $99/hr</td>\n",
       "      <td>50 - 249</td>\n",
       "      <td>2014</td>\n",
       "      <td>Poland</td>\n",
       "    </tr>\n",
       "    <tr>\n",
       "      <th>10</th>\n",
       "      <td>11</td>\n",
       "      <td>pwrteams</td>\n",
       "      <td>4.9</td>\n",
       "      <td>7</td>\n",
       "      <td>Scale your enterprise with cross-border teams</td>\n",
       "      <td>10</td>\n",
       "      <td>25</td>\n",
       "      <td>$25 - $49/hr</td>\n",
       "      <td>250 - 999</td>\n",
       "      <td>2008</td>\n",
       "      <td>Luxembourg, Poland</td>\n",
       "    </tr>\n",
       "    <tr>\n",
       "      <th>39</th>\n",
       "      <td>40</td>\n",
       "      <td>APPSTIRR</td>\n",
       "      <td>5.0</td>\n",
       "      <td>14</td>\n",
       "      <td>Award Winning App Development Company</td>\n",
       "      <td>5</td>\n",
       "      <td>20</td>\n",
       "      <td>$25 - $49/hr</td>\n",
       "      <td>50 - 249</td>\n",
       "      <td>2010</td>\n",
       "      <td>United States, United Arab Emirates</td>\n",
       "    </tr>\n",
       "    <tr>\n",
       "      <th>40</th>\n",
       "      <td>41</td>\n",
       "      <td>Classic Informatics</td>\n",
       "      <td>4.9</td>\n",
       "      <td>13</td>\n",
       "      <td>The Digital Innovation Company</td>\n",
       "      <td>20</td>\n",
       "      <td>20</td>\n",
       "      <td>$25 - $49/hr</td>\n",
       "      <td>50 - 249</td>\n",
       "      <td>2002</td>\n",
       "      <td>India, United Kingdom</td>\n",
       "    </tr>\n",
       "    <tr>\n",
       "      <th>17</th>\n",
       "      <td>18</td>\n",
       "      <td>OrbitSoft</td>\n",
       "      <td>4.9</td>\n",
       "      <td>3</td>\n",
       "      <td>We do software right</td>\n",
       "      <td>5</td>\n",
       "      <td>20</td>\n",
       "      <td>$25 - $49/hr</td>\n",
       "      <td>50 - 249</td>\n",
       "      <td>2001</td>\n",
       "      <td>United States</td>\n",
       "    </tr>\n",
       "    <tr>\n",
       "      <th>9</th>\n",
       "      <td>10</td>\n",
       "      <td>Dataforest</td>\n",
       "      <td>5.0</td>\n",
       "      <td>4</td>\n",
       "      <td>Data Engineering and Web Product Development</td>\n",
       "      <td>30</td>\n",
       "      <td>20</td>\n",
       "      <td>$50 - $99/hr</td>\n",
       "      <td>50 - 249</td>\n",
       "      <td>2018</td>\n",
       "      <td>Ukraine, Estonia</td>\n",
       "    </tr>\n",
       "    <tr>\n",
       "      <th>42</th>\n",
       "      <td>43</td>\n",
       "      <td>Idealogic</td>\n",
       "      <td>5.0</td>\n",
       "      <td>13</td>\n",
       "      <td>End-to-end custom software development</td>\n",
       "      <td>10</td>\n",
       "      <td>20</td>\n",
       "      <td>$50 - $99/hr</td>\n",
       "      <td>50 - 249</td>\n",
       "      <td>2016</td>\n",
       "      <td>Ukraine, Estonia</td>\n",
       "    </tr>\n",
       "    <tr>\n",
       "      <th>33</th>\n",
       "      <td>34</td>\n",
       "      <td>CDN Solutions Group</td>\n",
       "      <td>4.6</td>\n",
       "      <td>20</td>\n",
       "      <td>Blockchain, NFT, Mobile App, Software Development</td>\n",
       "      <td>10</td>\n",
       "      <td>20</td>\n",
       "      <td>&lt; $25/hr</td>\n",
       "      <td>250 - 999</td>\n",
       "      <td>2000</td>\n",
       "      <td>India, United States</td>\n",
       "    </tr>\n",
       "    <tr>\n",
       "      <th>45</th>\n",
       "      <td>46</td>\n",
       "      <td>DigiPrima Technologies Pvt. Ltd.</td>\n",
       "      <td>5.0</td>\n",
       "      <td>11</td>\n",
       "      <td>Trusted Partners for Software Solutions</td>\n",
       "      <td>10</td>\n",
       "      <td>20</td>\n",
       "      <td>&lt; $25/hr</td>\n",
       "      <td>10 - 49</td>\n",
       "      <td>2016</td>\n",
       "      <td>India, United States</td>\n",
       "    </tr>\n",
       "    <tr>\n",
       "      <th>5</th>\n",
       "      <td>6</td>\n",
       "      <td>Consagous Technologies</td>\n",
       "      <td>4.8</td>\n",
       "      <td>32</td>\n",
       "      <td>Helping brands by being their Technology Partner</td>\n",
       "      <td>10</td>\n",
       "      <td>20</td>\n",
       "      <td>$25 - $49/hr</td>\n",
       "      <td>50 - 249</td>\n",
       "      <td>2008</td>\n",
       "      <td>India, United States</td>\n",
       "    </tr>\n",
       "    <tr>\n",
       "      <th>23</th>\n",
       "      <td>24</td>\n",
       "      <td>abstractR</td>\n",
       "      <td>5.0</td>\n",
       "      <td>2</td>\n",
       "      <td>We make Abstract ideas Real</td>\n",
       "      <td>20</td>\n",
       "      <td>20</td>\n",
       "      <td>$50 - $99/hr</td>\n",
       "      <td>10 - 49</td>\n",
       "      <td>2018</td>\n",
       "      <td>Czech Republic</td>\n",
       "    </tr>\n",
       "    <tr>\n",
       "      <th>49</th>\n",
       "      <td>50</td>\n",
       "      <td>Maxilect</td>\n",
       "      <td>5.0</td>\n",
       "      <td>8</td>\n",
       "      <td>Martech, Ad Tech, Fintech, Blockchain</td>\n",
       "      <td>20</td>\n",
       "      <td>20</td>\n",
       "      <td>$50 - $99/hr</td>\n",
       "      <td>50 - 249</td>\n",
       "      <td>2015</td>\n",
       "      <td>Russia</td>\n",
       "    </tr>\n",
       "    <tr>\n",
       "      <th>6</th>\n",
       "      <td>7</td>\n",
       "      <td>NEX Softsys</td>\n",
       "      <td>5.0</td>\n",
       "      <td>12</td>\n",
       "      <td>IT Partner for Global Clients</td>\n",
       "      <td>20</td>\n",
       "      <td>20</td>\n",
       "      <td>$25 - $49/hr</td>\n",
       "      <td>50 - 249</td>\n",
       "      <td>2003</td>\n",
       "      <td>United States</td>\n",
       "    </tr>\n",
       "    <tr>\n",
       "      <th>24</th>\n",
       "      <td>25</td>\n",
       "      <td>SetuServ</td>\n",
       "      <td>5.0</td>\n",
       "      <td>1</td>\n",
       "      <td>Customized AI: Machine Power + Human Accuracy</td>\n",
       "      <td>50</td>\n",
       "      <td>16</td>\n",
       "      <td>NA</td>\n",
       "      <td>50 - 249</td>\n",
       "      <td>2012</td>\n",
       "      <td>United States, India</td>\n",
       "    </tr>\n",
       "    <tr>\n",
       "      <th>2</th>\n",
       "      <td>3</td>\n",
       "      <td>SoluLab</td>\n",
       "      <td>5.0</td>\n",
       "      <td>32</td>\n",
       "      <td>Blockchain | IoT | Mobility | AI | Big Data</td>\n",
       "      <td>15</td>\n",
       "      <td>15</td>\n",
       "      <td>$25 - $49/hr</td>\n",
       "      <td>50 - 249</td>\n",
       "      <td>2014</td>\n",
       "      <td>United States, India</td>\n",
       "    </tr>\n",
       "    <tr>\n",
       "      <th>0</th>\n",
       "      <td>1</td>\n",
       "      <td>SPEC INDIA</td>\n",
       "      <td>4.8</td>\n",
       "      <td>26</td>\n",
       "      <td>Enterprise Software, Mobility &amp; BI Solutions</td>\n",
       "      <td>20</td>\n",
       "      <td>15</td>\n",
       "      <td>&lt; $25/hr</td>\n",
       "      <td>250 - 999</td>\n",
       "      <td>1987</td>\n",
       "      <td>India, United States</td>\n",
       "    </tr>\n",
       "    <tr>\n",
       "      <th>30</th>\n",
       "      <td>31</td>\n",
       "      <td>CodeCoda Ltd</td>\n",
       "      <td>3.0</td>\n",
       "      <td>2</td>\n",
       "      <td>Advanced Software Development Outsourcing</td>\n",
       "      <td>10</td>\n",
       "      <td>15</td>\n",
       "      <td>$25 - $49/hr</td>\n",
       "      <td>50 - 249</td>\n",
       "      <td>2016</td>\n",
       "      <td>Bulgaria, Ireland</td>\n",
       "    </tr>\n",
       "    <tr>\n",
       "      <th>48</th>\n",
       "      <td>49</td>\n",
       "      <td>Exceed Team</td>\n",
       "      <td>5.0</td>\n",
       "      <td>5</td>\n",
       "      <td>Exceeding expectations of our clients</td>\n",
       "      <td>5</td>\n",
       "      <td>100</td>\n",
       "      <td>$25 - $49/hr</td>\n",
       "      <td>50 - 249</td>\n",
       "      <td>2013</td>\n",
       "      <td>Russia</td>\n",
       "    </tr>\n",
       "    <tr>\n",
       "      <th>38</th>\n",
       "      <td>39</td>\n",
       "      <td>Clavax Technologies LLC</td>\n",
       "      <td>4.4</td>\n",
       "      <td>15</td>\n",
       "      <td>Transform Your Ideas into Digital Solutions</td>\n",
       "      <td>10</td>\n",
       "      <td>10</td>\n",
       "      <td>$25 - $49/hr</td>\n",
       "      <td>50 - 249</td>\n",
       "      <td>2011</td>\n",
       "      <td>United States, Australia</td>\n",
       "    </tr>\n",
       "    <tr>\n",
       "      <th>35</th>\n",
       "      <td>36</td>\n",
       "      <td>MobiDev</td>\n",
       "      <td>5.0</td>\n",
       "      <td>16</td>\n",
       "      <td>Web and Mobile development, AI apps</td>\n",
       "      <td>10</td>\n",
       "      <td>10</td>\n",
       "      <td>$50 - $99/hr</td>\n",
       "      <td>250 - 999</td>\n",
       "      <td>2009</td>\n",
       "      <td>United States</td>\n",
       "    </tr>\n",
       "    <tr>\n",
       "      <th>7</th>\n",
       "      <td>8</td>\n",
       "      <td>Beyond Key</td>\n",
       "      <td>5.0</td>\n",
       "      <td>7</td>\n",
       "      <td>Software testing and QA services</td>\n",
       "      <td>20</td>\n",
       "      <td>10</td>\n",
       "      <td>$25 - $49/hr</td>\n",
       "      <td>250 - 999</td>\n",
       "      <td>2005</td>\n",
       "      <td>United States, India</td>\n",
       "    </tr>\n",
       "    <tr>\n",
       "      <th>4</th>\n",
       "      <td>5</td>\n",
       "      <td>NeenOpal Inc.</td>\n",
       "      <td>5.0</td>\n",
       "      <td>5</td>\n",
       "      <td>The Hub Of Data Science Innovation</td>\n",
       "      <td>25</td>\n",
       "      <td>10</td>\n",
       "      <td>$25 - $49/hr</td>\n",
       "      <td>10 - 49</td>\n",
       "      <td>2016</td>\n",
       "      <td>United States, India</td>\n",
       "    </tr>\n",
       "    <tr>\n",
       "      <th>3</th>\n",
       "      <td>4</td>\n",
       "      <td>Sigma Data Systems</td>\n",
       "      <td>4.7</td>\n",
       "      <td>5</td>\n",
       "      <td>Discover the world of Big Data with us!</td>\n",
       "      <td>40</td>\n",
       "      <td>10</td>\n",
       "      <td>$25 - $49/hr</td>\n",
       "      <td>250 - 999</td>\n",
       "      <td>2010</td>\n",
       "      <td>United States, Australia</td>\n",
       "    </tr>\n",
       "    <tr>\n",
       "      <th>29</th>\n",
       "      <td>30</td>\n",
       "      <td>ThirdEye Data Inc.</td>\n",
       "      <td>5.0</td>\n",
       "      <td>1</td>\n",
       "      <td>Transforming Enterprises with AI Applications</td>\n",
       "      <td>20</td>\n",
       "      <td>10</td>\n",
       "      <td>$50 - $99/hr</td>\n",
       "      <td>50 - 249</td>\n",
       "      <td>2010</td>\n",
       "      <td>United States</td>\n",
       "    </tr>\n",
       "    <tr>\n",
       "      <th>27</th>\n",
       "      <td>28</td>\n",
       "      <td>AM-BITS</td>\n",
       "      <td>5.0</td>\n",
       "      <td>2</td>\n",
       "      <td>Time to rethink IT</td>\n",
       "      <td>20</td>\n",
       "      <td>10</td>\n",
       "      <td>$25 - $49/hr</td>\n",
       "      <td>50 - 249</td>\n",
       "      <td>2016</td>\n",
       "      <td>Ukraine</td>\n",
       "    </tr>\n",
       "    <tr>\n",
       "      <th>1</th>\n",
       "      <td>2</td>\n",
       "      <td>instinctools</td>\n",
       "      <td>4.8</td>\n",
       "      <td>8</td>\n",
       "      <td>Delivering the future. Now.</td>\n",
       "      <td>5</td>\n",
       "      <td>10</td>\n",
       "      <td>$50 - $99/hr</td>\n",
       "      <td>250 - 999</td>\n",
       "      <td>2000</td>\n",
       "      <td>United States, Germany</td>\n",
       "    </tr>\n",
       "    <tr>\n",
       "      <th>22</th>\n",
       "      <td>23</td>\n",
       "      <td>SPRYTE Labs</td>\n",
       "      <td>5.0</td>\n",
       "      <td>3</td>\n",
       "      <td>The right team, every time</td>\n",
       "      <td>10</td>\n",
       "      <td>10</td>\n",
       "      <td>NA</td>\n",
       "      <td>1,000 - 9,999</td>\n",
       "      <td>2019</td>\n",
       "      <td>United States</td>\n",
       "    </tr>\n",
       "    <tr>\n",
       "      <th>12</th>\n",
       "      <td>13</td>\n",
       "      <td>Altar.io</td>\n",
       "      <td>5.0</td>\n",
       "      <td>9</td>\n",
       "      <td>Product &amp; Software Development Agency</td>\n",
       "      <td>25</td>\n",
       "      <td>10</td>\n",
       "      <td>$50 - $99/hr</td>\n",
       "      <td>10 - 49</td>\n",
       "      <td>2015</td>\n",
       "      <td>Portugal, United Kingdom</td>\n",
       "    </tr>\n",
       "    <tr>\n",
       "      <th>16</th>\n",
       "      <td>17</td>\n",
       "      <td>Accubits</td>\n",
       "      <td>4.9</td>\n",
       "      <td>7</td>\n",
       "      <td>AI &amp; Blockchain focused development company</td>\n",
       "      <td>10</td>\n",
       "      <td>10</td>\n",
       "      <td>$25 - $49/hr</td>\n",
       "      <td>50 - 249</td>\n",
       "      <td>2012</td>\n",
       "      <td>India, United States</td>\n",
       "    </tr>\n",
       "  </tbody>\n",
       "</table>\n",
       "</div>"
      ],
      "text/plain": [
       "   firm_position                         firm_name star_rating review  \\\n",
       "50            51               Burning Buttons LLC         5.0      6   \n",
       "47            48                BR Softech Pvt Ltd         4.5     10   \n",
       "37            38                     Sunflower Lab         4.9     13   \n",
       "36            37                        Prismetric         4.7     14   \n",
       "34            35                 WebClues Infotech         4.6     15   \n",
       "32            33                  Welby Consulting         3.4      5   \n",
       "18            19                          Broscorp         4.9      4   \n",
       "13            14                             Huspi         5.0      6   \n",
       "15            16                            Fayrix         5.0      8   \n",
       "41            42                             7EDGE         5.0     14   \n",
       "8              9                          Datapine         5.0      3   \n",
       "11            12                         Intellias         5.0      5   \n",
       "14            15                  Rudder Analytics         4.8      3   \n",
       "43            44                      OpenGeeksLab         5.0     12   \n",
       "28            29                       ScaleupAlly         4.8      3   \n",
       "25            26                       InData Labs         5.0      1   \n",
       "26            27                   Aegis Soft Tech         5.0      2   \n",
       "44            45                  TrendLine Global         5.0     11   \n",
       "19            20                           Clustox         5.0      5   \n",
       "20            21                            VITech         5.0      3   \n",
       "21            22                            GFAIVE         5.0      2   \n",
       "46            47                        HQSoftware         4.9     11   \n",
       "31            32                             S-PRO         5.0     30   \n",
       "10            11                          pwrteams         4.9      7   \n",
       "39            40                          APPSTIRR         5.0     14   \n",
       "40            41               Classic Informatics         4.9     13   \n",
       "17            18                         OrbitSoft         4.9      3   \n",
       "9             10                        Dataforest         5.0      4   \n",
       "42            43                         Idealogic         5.0     13   \n",
       "33            34               CDN Solutions Group         4.6     20   \n",
       "45            46  DigiPrima Technologies Pvt. Ltd.         5.0     11   \n",
       "5              6            Consagous Technologies         4.8     32   \n",
       "23            24                         abstractR         5.0      2   \n",
       "49            50                          Maxilect         5.0      8   \n",
       "6              7                       NEX Softsys         5.0     12   \n",
       "24            25                          SetuServ         5.0      1   \n",
       "2              3                           SoluLab         5.0     32   \n",
       "0              1                        SPEC INDIA         4.8     26   \n",
       "30            31                      CodeCoda Ltd         3.0      2   \n",
       "48            49                       Exceed Team         5.0      5   \n",
       "38            39           Clavax Technologies LLC         4.4     15   \n",
       "35            36                           MobiDev         5.0     16   \n",
       "7              8                        Beyond Key         5.0      7   \n",
       "4              5                     NeenOpal Inc.         5.0      5   \n",
       "3              4                Sigma Data Systems         4.7      5   \n",
       "29            30                ThirdEye Data Inc.         5.0      1   \n",
       "27            28                           AM-BITS         5.0      2   \n",
       "1              2                      instinctools         4.8      8   \n",
       "22            23                       SPRYTE Labs         5.0      3   \n",
       "12            13                          Altar.io         5.0      9   \n",
       "16            17                          Accubits         4.9      7   \n",
       "\n",
       "                                           firm_motor service_pct(%)  \\\n",
       "50        Digital boost for your business to succeed!             10   \n",
       "47          Website & Mobile Apps Development Company              5   \n",
       "37                                      Sunflower Lab              5   \n",
       "36   Delivering Quality Products and Premium Services              5   \n",
       "34                          Your Vision, Our Creation              5   \n",
       "32                              The Future of Digital             10   \n",
       "18  Delivering software that helps businesses to grow             10   \n",
       "13    Transforming ideas into user-friendly software.             10   \n",
       "15    Remote software teams & services for startups.              10   \n",
       "41  Software and Product Development | Dedicated T...              5   \n",
       "8                     BUSINESS INTELLIGENCE MADE EASY             90   \n",
       "11                          Global Technology Partner             15   \n",
       "14                            Steering Your Business.             90   \n",
       "43                 Your Software Development Partner              10   \n",
       "28      Scaleup the development of your Business Idea             30   \n",
       "25                         Big on Data Science and AI             30   \n",
       "26                        Software Development Expert              5   \n",
       "44               Custom Software Development Company               5   \n",
       "19                            The House of Innovation             10   \n",
       "20                    Software development powerhouse             30   \n",
       "21              Demand forecasting for Fashion Retail             20   \n",
       "46       IoT, AR, VR, and custom software development              5   \n",
       "31                                 Strategic partner.             10   \n",
       "10      Scale your enterprise with cross-border teams             10   \n",
       "39              Award Winning App Development Company              5   \n",
       "40                     The Digital Innovation Company             20   \n",
       "17                               We do software right              5   \n",
       "9        Data Engineering and Web Product Development             30   \n",
       "42             End-to-end custom software development             10   \n",
       "33  Blockchain, NFT, Mobile App, Software Development             10   \n",
       "45            Trusted Partners for Software Solutions             10   \n",
       "5    Helping brands by being their Technology Partner             10   \n",
       "23                        We make Abstract ideas Real             20   \n",
       "49              Martech, Ad Tech, Fintech, Blockchain             20   \n",
       "6                       IT Partner for Global Clients             20   \n",
       "24      Customized AI: Machine Power + Human Accuracy             50   \n",
       "2         Blockchain | IoT | Mobility | AI | Big Data             15   \n",
       "0        Enterprise Software, Mobility & BI Solutions             20   \n",
       "30          Advanced Software Development Outsourcing             10   \n",
       "48              Exceeding expectations of our clients              5   \n",
       "38        Transform Your Ideas into Digital Solutions             10   \n",
       "35                Web and Mobile development, AI apps             10   \n",
       "7                    Software testing and QA services             20   \n",
       "4                  The Hub Of Data Science Innovation             25   \n",
       "3             Discover the world of Big Data with us!             40   \n",
       "29      Transforming Enterprises with AI Applications             20   \n",
       "27                                 Time to rethink IT             20   \n",
       "1                         Delivering the future. Now.              5   \n",
       "22                         The right team, every time             10   \n",
       "12              Product & Software Development Agency             25   \n",
       "16        AI & Blockchain focused development company             10   \n",
       "\n",
       "   platform_pct(%)       firm_price  firm_employee year_founded  \\\n",
       "50              50    $25 - $49/hr        50 - 249         2009   \n",
       "47              50    $25 - $49/hr   1,000 - 9,999         2012   \n",
       "37              50    $50 - $99/hr        50 - 249         2010   \n",
       "36              50        < $25/hr        50 - 249         2008   \n",
       "34              50    $25 - $49/hr        50 - 249         2014   \n",
       "32              50  $100 - $149/hr           2 - 9         2015   \n",
       "18              50    $25 - $49/hr         10 - 49         2016   \n",
       "13              50   $50 - $99/hr          10 - 49         2015   \n",
       "15               5        < $25/hr   1,000 - 9,999         2005   \n",
       "41               5    $25 - $49/hr        50 - 249         2010   \n",
       "8                5    $50 - $99/hr         10 - 49         2012   \n",
       "11               5    $25 - $49/hr   1,000 - 9,999         2002   \n",
       "14               5    $25 - $49/hr         10 - 49         2015   \n",
       "43              30    $25 - $49/hr        50 - 249         2015   \n",
       "28              30    $25 - $49/hr         10 - 49         2017   \n",
       "25              30    $50 - $99/hr        50 - 249         2014   \n",
       "26              25    $25 - $49/hr        50 - 249         2003   \n",
       "44              25    $25 - $49/hr        50 - 249         2010   \n",
       "19              25        < $25/hr         10 - 49         2012   \n",
       "20              25   $50 - $99/hr         50 - 249         2007   \n",
       "21              25              NA         10 - 49         2018   \n",
       "46              25    $25 - $49/hr        50 - 249         2001   \n",
       "31              25    $50 - $99/hr        50 - 249         2014   \n",
       "10              25    $25 - $49/hr       250 - 999         2008   \n",
       "39              20    $25 - $49/hr        50 - 249         2010   \n",
       "40              20    $25 - $49/hr        50 - 249         2002   \n",
       "17              20    $25 - $49/hr        50 - 249         2001   \n",
       "9               20    $50 - $99/hr        50 - 249         2018   \n",
       "42              20    $50 - $99/hr        50 - 249         2016   \n",
       "33              20        < $25/hr       250 - 999         2000   \n",
       "45              20        < $25/hr         10 - 49         2016   \n",
       "5               20    $25 - $49/hr        50 - 249         2008   \n",
       "23              20    $50 - $99/hr         10 - 49         2018   \n",
       "49              20    $50 - $99/hr        50 - 249         2015   \n",
       "6               20    $25 - $49/hr        50 - 249         2003   \n",
       "24              16              NA        50 - 249         2012   \n",
       "2               15    $25 - $49/hr        50 - 249         2014   \n",
       "0               15        < $25/hr       250 - 999         1987   \n",
       "30              15    $25 - $49/hr        50 - 249         2016   \n",
       "48             100    $25 - $49/hr        50 - 249         2013   \n",
       "38              10    $25 - $49/hr        50 - 249         2011   \n",
       "35              10    $50 - $99/hr       250 - 999         2009   \n",
       "7               10    $25 - $49/hr       250 - 999         2005   \n",
       "4               10    $25 - $49/hr         10 - 49         2016   \n",
       "3               10    $25 - $49/hr       250 - 999         2010   \n",
       "29              10   $50 - $99/hr         50 - 249         2010   \n",
       "27              10    $25 - $49/hr        50 - 249         2016   \n",
       "1               10    $50 - $99/hr       250 - 999         2000   \n",
       "22              10              NA   1,000 - 9,999         2019   \n",
       "12              10    $50 - $99/hr         10 - 49         2015   \n",
       "16              10    $25 - $49/hr        50 - 249         2012   \n",
       "\n",
       "                           firm_location  \n",
       "50                      Germany, Russia   \n",
       "47                 India, United States   \n",
       "37                        United States   \n",
       "36                 India, United States   \n",
       "34                               Canada   \n",
       "32                               Canada   \n",
       "18                              Ukraine   \n",
       "13                      Poland, Ukraine   \n",
       "15                               Israel   \n",
       "41                 India, United States   \n",
       "8                               Germany   \n",
       "11               Ukraine, United States   \n",
       "14                                India   \n",
       "43                Sweden, United States   \n",
       "28                                India   \n",
       "25                    Cyprus, Singapore   \n",
       "26                                India   \n",
       "44              Ukraine, United Kingdom   \n",
       "19                             Pakistan   \n",
       "20                              Ukraine   \n",
       "21                              Georgia   \n",
       "46               United States, Georgia   \n",
       "31                               Poland   \n",
       "10                   Luxembourg, Poland   \n",
       "39  United States, United Arab Emirates   \n",
       "40                India, United Kingdom   \n",
       "17                        United States   \n",
       "9                      Ukraine, Estonia   \n",
       "42                     Ukraine, Estonia   \n",
       "33                 India, United States   \n",
       "45                 India, United States   \n",
       "5                  India, United States   \n",
       "23                       Czech Republic   \n",
       "49                               Russia   \n",
       "6                         United States   \n",
       "24                 United States, India   \n",
       "2                  United States, India   \n",
       "0                  India, United States   \n",
       "30                    Bulgaria, Ireland   \n",
       "48                               Russia   \n",
       "38             United States, Australia   \n",
       "35                        United States   \n",
       "7                  United States, India   \n",
       "4                  United States, India   \n",
       "3              United States, Australia   \n",
       "29                        United States   \n",
       "27                              Ukraine   \n",
       "1                United States, Germany   \n",
       "22                        United States   \n",
       "12             Portugal, United Kingdom   \n",
       "16                 India, United States   "
      ]
     },
     "execution_count": 89,
     "metadata": {},
     "output_type": "execute_result"
    }
   ],
   "source": [
    "df.sort_values(by='platform_pct(%)', ascending=False)"
   ]
  }
 ],
 "metadata": {
  "kernelspec": {
   "display_name": "Python 3",
   "language": "python",
   "name": "python3"
  },
  "language_info": {
   "codemirror_mode": {
    "name": "ipython",
    "version": 3
   },
   "file_extension": ".py",
   "mimetype": "text/x-python",
   "name": "python",
   "nbconvert_exporter": "python",
   "pygments_lexer": "ipython3",
   "version": "3.9.12"
  },
  "orig_nbformat": 4,
  "vscode": {
   "interpreter": {
    "hash": "b68a3c467d07aa8b20c71071b0b7606f948be72d30c76b97a14d11803ebfb6c4"
   }
  }
 },
 "nbformat": 4,
 "nbformat_minor": 2
}
